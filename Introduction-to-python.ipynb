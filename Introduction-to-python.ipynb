{
 "cells": [
  {
   "cell_type": "markdown",
   "id": "5a3d4ee2-ccff-4292-aa7f-5671bc193804",
   "metadata": {},
   "source": [
    "# An Informal Introduction to Python."
   ]
  },
  {
   "cell_type": "markdown",
   "id": "3bbe8f18-930c-4d34-9b65-ba795c68c08c",
   "metadata": {},
   "source": [
    "### 1. Comments in Python"
   ]
  },
  {
   "cell_type": "markdown",
   "id": "4930b0ce-ed91-42a1-8ca3-6f68c963bb57",
   "metadata": {},
   "source": [
    "1. In Python Single line Comments Start with # sign and then after a space you can continue to write the comment. \n",
    "2. for Multi line comments we can simply use tripple commas either single or double ('''Comment'''/\"\"\"Comment\"\"\"), and then write the comment between those tripple inverted commas.\n",
    "3. if we put comment inside quotes then it will not be considered as a comment."
   ]
  },
  {
   "cell_type": "code",
   "execution_count": 11,
   "id": "9a0a9bbf-a2a7-4d87-a744-7b96001e8894",
   "metadata": {},
   "outputs": [
    {
     "name": "stdout",
     "output_type": "stream",
     "text": [
      "Mathematics\n"
     ]
    }
   ],
   "source": [
    "# this is the first comment\n",
    "spam = 1  # and this is the second comment\n",
    "          # ... and now a third!\n",
    "text = \"# This is not a comment because it's inside quotes.\"\n",
    "\n",
    "\"\"\" This is a multiline \n",
    "comment \"\"\"\n",
    "\n",
    "print(\"Mathematics\")"
   ]
  },
  {
   "cell_type": "markdown",
   "id": "74ad845b-c448-4381-90b9-c0e1108f35cd",
   "metadata": {},
   "source": [
    "### 2. Datatypes in python and different functions or operations on them."
   ]
  },
  {
   "cell_type": "markdown",
   "id": "446f9320-3b44-494a-bcde-740e0dd5986f",
   "metadata": {},
   "source": [
    "#### 2.1. Numbers."
   ]
  },
  {
   "cell_type": "markdown",
   "id": "0ef20a71-376c-4755-8a7d-8bc93633407b",
   "metadata": {},
   "source": [
    "Python can handle different types of numbers, for example it can handle int, float(fractional numbers), Decimal, Fractional, and it can handle complex numbers as well which are of form 3+5j. The python inerpreter works as a calculator for numbers, you can perform different arithematic operations on numbers and it will give the answer, the operators +, -, * and / can be used to perform arithmetic; parentheses (()) can be used for grouping.\n",
    "Examples of Numbers and different operations performed on them are below."
   ]
  },
  {
   "cell_type": "code",
   "execution_count": 8,
   "id": "9bbda9e4-bbc2-44c7-a4e6-4a8f85ba346e",
   "metadata": {},
   "outputs": [
    {
     "name": "stdout",
     "output_type": "stream",
     "text": [
      "4\n",
      "20\n",
      "25.0\n"
     ]
    }
   ],
   "source": [
    "a = 2+2  # addition\n",
    "\n",
    "b = 50-5*6\n",
    "\n",
    "c = 50/2  # division always returns the floating-point number\n",
    "\n",
    "print(a)\n",
    "print(b)\n",
    "print(c)"
   ]
  },
  {
   "cell_type": "markdown",
   "id": "4cde27a6-7b98-4d8b-a60e-3f9ea95198d8",
   "metadata": {},
   "source": [
    "To do floor division and get integer in return we use // operator.\n",
    "In order to get reminder we use % operator."
   ]
  },
  {
   "cell_type": "code",
   "execution_count": 12,
   "id": "dd881947-5ab9-43e4-8d7d-10a58787ba95",
   "metadata": {},
   "outputs": [
    {
     "name": "stdout",
     "output_type": "stream",
     "text": [
      "5.666666666666667\n",
      "5\n",
      "2\n",
      "17\n"
     ]
    }
   ],
   "source": [
    "a = 17/3        # a classic division returns floating point number as return value\n",
    "\n",
    "b = 17 // 3     # floor division returns the greatest integer <= b (Returned value) \n",
    "\n",
    "c = 17 % 3      # the % operator returns the remainder of the division\n",
    "\n",
    "d = 5 * 3 + 2   # floored quotient * divisor + remainder gives integer return\n",
    "\n",
    "print(a)\n",
    "print(b)\n",
    "print(c)\n",
    "print(d)"
   ]
  },
  {
   "cell_type": "markdown",
   "id": "6792915c-1022-4e99-bc28-5529e4110d09",
   "metadata": {},
   "source": [
    "In Python we can use ** operator to calculate powers."
   ]
  },
  {
   "cell_type": "code",
   "execution_count": 13,
   "id": "0641176e-858d-48b4-aca0-08dc1043d866",
   "metadata": {},
   "outputs": [
    {
     "name": "stdout",
     "output_type": "stream",
     "text": [
      "25\n"
     ]
    }
   ],
   "source": [
    "a = 5 ** 2        # 5 raised to the power of 2 \n",
    "print(a)"
   ]
  },
  {
   "cell_type": "markdown",
   "id": "a3908b37-83e1-497b-8bb3-a632407d8589",
   "metadata": {},
   "source": [
    "In Python Interpreter There is full support for floating point; operators with mixed type operands convert the integer operand to floating point"
   ]
  },
  {
   "cell_type": "code",
   "execution_count": 14,
   "id": "948f09da-1f3e-421e-843f-e4ef2494aae3",
   "metadata": {},
   "outputs": [
    {
     "name": "stdout",
     "output_type": "stream",
     "text": [
      "14.0\n"
     ]
    }
   ],
   "source": [
    "a = 4 * 3.75 - 1\n",
    "print(a)"
   ]
  },
  {
   "cell_type": "markdown",
   "id": "09b37ae5-00e0-42df-b16e-729615b103b1",
   "metadata": {},
   "source": [
    "In Python, we can assign the last printed/calculated expresion to the variable _. This means that when we are using Python as a calculator, it is  easier to continue calculations"
   ]
  },
  {
   "cell_type": "code",
   "execution_count": 20,
   "id": "43c9f646-decd-42db-8915-d4f9fe470421",
   "metadata": {},
   "outputs": [
    {
     "data": {
      "text/plain": [
       "45.65"
      ]
     },
     "execution_count": 20,
     "metadata": {},
     "output_type": "execute_result"
    }
   ],
   "source": [
    "tax = 22.8 / 100\n",
    "price = 200.24\n",
    "price * tax\n",
    "\n",
    "price + _\n",
    "round(_,2)"
   ]
  },
  {
   "cell_type": "markdown",
   "id": "6f9d23aa-306a-4a14-b8a8-628a5a8651d3",
   "metadata": {},
   "source": [
    "#### 2.2. Text"
   ]
  },
  {
   "cell_type": "markdown",
   "id": "2c6f8ec3-07d0-4f15-80a7-58cf4bf09e60",
   "metadata": {},
   "source": [
    "Python can manipulate text (represented by type str, so-called “strings”) as well as numbers. This includes characters “!”, words “rabbit”, names “Paris”, sentences “Got your back.”, etc. “Yay! :)”. They can be enclosed in single quotes ('...') or double quotes (\"...\") with the same result"
   ]
  },
  {
   "cell_type": "code",
   "execution_count": 5,
   "id": "9ef80776-d12f-4ef5-ad47-d5d1a80c8ddb",
   "metadata": {},
   "outputs": [
    {
     "name": "stdout",
     "output_type": "stream",
     "text": [
      "Shozab\n",
      "Hi, my name is Shozab\n",
      "1122\n"
     ]
    }
   ],
   "source": [
    "word = 'Shozab'  # single quotes\n",
    "\n",
    "scentense = \"Hi, my name is Shozab\"  # double quotes\n",
    "\n",
    "word_2 = '1122'  # digits and numbers enclosed in quotes are also strings\n",
    "\n",
    "print(word)\n",
    "print(scentense)\n",
    "print(word_2)"
   ]
  },
  {
   "cell_type": "raw",
   "id": "39d8bf32-dec5-460d-b03f-244d942608a8",
   "metadata": {},
   "source": [
    "To quote a quote, we need to “escape” it, by preceding it with \"\\\". We can use the other type of quotation marks as well"
   ]
  },
  {
   "cell_type": "code",
   "execution_count": 31,
   "id": "2fb2046f-a77c-48db-bd88-14b0c07ae76a",
   "metadata": {},
   "outputs": [
    {
     "name": "stdout",
     "output_type": "stream",
     "text": [
      "doesn't\n",
      "doesn't\n",
      "\"Yes,\" they said.\n",
      "\"Yes,\" they said.\n"
     ]
    }
   ],
   "source": [
    "a = 'doesn\\'t'  # use \\' to escape the single quote...\n",
    "\n",
    "b = \"doesn't\"  # ...or use double quotes instead\n",
    "\n",
    "c = '\"Yes,\" they said.'\n",
    "\n",
    "d = \"\\\"Yes,\\\" they said.\"\n",
    "\n",
    "print(a)\n",
    "print(b)\n",
    "print(c)\n",
    "print(d)"
   ]
  },
  {
   "cell_type": "markdown",
   "id": "dc4c0f18-c9ce-415a-9d12-9a12c5ec813d",
   "metadata": {},
   "source": [
    "In python if we don't want characters prefaced by \\ to be interpreted as special characters, we can use raw strings by simply adding r before the first quote.\n",
    "But there can not be a raw string ending in an odd number of \\ characters."
   ]
  },
  {
   "cell_type": "code",
   "execution_count": 37,
   "id": "c956f6d5-48e2-41d9-877f-52c642f28613",
   "metadata": {},
   "outputs": [
    {
     "name": "stdout",
     "output_type": "stream",
     "text": [
      "C:\\some\n",
      "ame\n",
      "C:\\some\\name\n"
     ]
    }
   ],
   "source": [
    "print('C:\\some\\name')   # here \\n means newline!\n",
    "\n",
    "print(r'C:\\some\\name')  # note the r before the quote\n",
    "\n",
    "# print('C:\\some\\name\\')  # This will give error sivce number of \\ are odd\n",
    "#Cell In[34], line 5\n",
    "#print('C:\\some\\name\\')  # This will give error sivce number of \\ are odd\n",
    "#SyntaxError: EOL while scanning string literal\n"
   ]
  },
  {
   "cell_type": "markdown",
   "id": "d0c1e9a1-282b-430a-9918-c9dc4392c274",
   "metadata": {},
   "source": [
    "String literals can span multiple lines. One way is using triple-quotes: \"\"\"...\"\"\" or '''...'''. End of lines are automatically included in the string, but it’s possible to prevent this by adding a \\ at the end of the line."
   ]
  },
  {
   "cell_type": "code",
   "execution_count": 6,
   "id": "523af87f-548c-4318-8c77-20880f14c6a1",
   "metadata": {},
   "outputs": [
    {
     "name": "stdout",
     "output_type": "stream",
     "text": [
      "\n",
      "Hi, how are you.\n",
      "    we are fine.\n",
      "\n"
     ]
    }
   ],
   "source": [
    "print(\"\"\"\n",
    "Hi, how are you.\n",
    "    we are fine.\n",
    "\"\"\")"
   ]
  },
  {
   "cell_type": "code",
   "execution_count": 7,
   "id": "587ca555-ddb8-4792-b48b-93d86b250eba",
   "metadata": {},
   "outputs": [
    {
     "name": "stdout",
     "output_type": "stream",
     "text": [
      "Hi, how are you.\n",
      "    we are fine.\n",
      "\n"
     ]
    }
   ],
   "source": [
    "print(\"\"\"\\\n",
    "Hi, how are you.\n",
    "    we are fine.\n",
    "\"\"\")"
   ]
  },
  {
   "cell_type": "markdown",
   "id": "9c22613a-bd9b-4f65-9652-4a9190ee0b4b",
   "metadata": {},
   "source": [
    "We can concatinate Strings using \"+\" operator."
   ]
  },
  {
   "cell_type": "code",
   "execution_count": 8,
   "id": "d609b34d-71e0-4796-845f-6bfd47009dcc",
   "metadata": {},
   "outputs": [
    {
     "data": {
      "text/plain": [
       "'python'"
      ]
     },
     "execution_count": 8,
     "metadata": {},
     "output_type": "execute_result"
    }
   ],
   "source": [
    "'py' + 'thon'"
   ]
  },
  {
   "cell_type": "code",
   "execution_count": 9,
   "id": "2b0a0d3f-a904-4fd3-9a87-347679b36757",
   "metadata": {},
   "outputs": [
    {
     "data": {
      "text/plain": [
       "'pypypython'"
      ]
     },
     "execution_count": 9,
     "metadata": {},
     "output_type": "execute_result"
    }
   ],
   "source": [
    "3 * 'py' + 'thon'"
   ]
  },
  {
   "cell_type": "markdown",
   "id": "6273777c-53b0-461c-9e63-1b8e00da6f85",
   "metadata": {},
   "source": [
    "If two or more strings are side by side the python interpreter will concatinate them. This feature is particularly useful when you want to break long strings."
   ]
  },
  {
   "cell_type": "code",
   "execution_count": 10,
   "id": "05dd0b55-f783-4ffa-8d91-a91003116915",
   "metadata": {},
   "outputs": [
    {
     "data": {
      "text/plain": [
       "'python'"
      ]
     },
     "execution_count": 10,
     "metadata": {},
     "output_type": "execute_result"
    }
   ],
   "source": [
    "'py''thon'"
   ]
  },
  {
   "cell_type": "code",
   "execution_count": 11,
   "id": "542d6787-6555-4cf9-940b-c678413c3384",
   "metadata": {},
   "outputs": [
    {
     "data": {
      "text/plain": [
       "'Hi, my name is Muhammad Shozab Imdad'"
      ]
     },
     "execution_count": 11,
     "metadata": {},
     "output_type": "execute_result"
    }
   ],
   "source": [
    "Scentence = ('Hi, my name is '\n",
    "            'Muhammad Shozab Imdad')\n",
    "\n",
    "Scentence"
   ]
  },
  {
   "cell_type": "markdown",
   "id": "1cd74a33-7049-4669-a26e-ed6cbb21ac31",
   "metadata": {},
   "source": [
    "This feature only works with two literals, but not with variables or expressions."
   ]
  },
  {
   "cell_type": "code",
   "execution_count": 55,
   "id": "01ea64c1-4a21-4059-a099-8fbe0f65efe7",
   "metadata": {},
   "outputs": [
    {
     "ename": "SyntaxError",
     "evalue": "invalid syntax (341143246.py, line 2)",
     "output_type": "error",
     "traceback": [
      "\u001b[1;36m  Cell \u001b[1;32mIn[55], line 2\u001b[1;36m\u001b[0m\n\u001b[1;33m    prefix 'thon'\u001b[0m\n\u001b[1;37m           ^\u001b[0m\n\u001b[1;31mSyntaxError\u001b[0m\u001b[1;31m:\u001b[0m invalid syntax\n"
     ]
    }
   ],
   "source": [
    "prefix = 'py'\n",
    "prefix 'thon'"
   ]
  },
  {
   "cell_type": "markdown",
   "id": "7f16bf6d-2612-4754-84f4-2d2b7f3d5ba9",
   "metadata": {},
   "source": [
    "If we want to concatenate variables or a variable and a literal, use +"
   ]
  },
  {
   "cell_type": "code",
   "execution_count": 54,
   "id": "47fedfef-e3ce-487a-8f07-0cf01beec5ad",
   "metadata": {},
   "outputs": [
    {
     "data": {
      "text/plain": [
       "'python'"
      ]
     },
     "execution_count": 54,
     "metadata": {},
     "output_type": "execute_result"
    }
   ],
   "source": [
    "prefix + 'thon'"
   ]
  },
  {
   "cell_type": "markdown",
   "id": "cfa5c3a1-c28f-4afb-9369-bb4586efba27",
   "metadata": {},
   "source": [
    "Strings can also be indexed like lists starting from 0. There is no character type in python, characer is simply a string size of one"
   ]
  },
  {
   "cell_type": "code",
   "execution_count": 57,
   "id": "75b41930-272f-43e5-8553-da55dbf4cbbd",
   "metadata": {},
   "outputs": [
    {
     "data": {
      "text/plain": [
       "'S'"
      ]
     },
     "execution_count": 57,
     "metadata": {},
     "output_type": "execute_result"
    }
   ],
   "source": [
    "word = 'Shozab'\n",
    "word[0]"
   ]
  },
  {
   "cell_type": "code",
   "execution_count": 58,
   "id": "4346db8e-3e33-44a6-8e8e-b4f87f3ed84c",
   "metadata": {},
   "outputs": [
    {
     "data": {
      "text/plain": [
       "'b'"
      ]
     },
     "execution_count": 58,
     "metadata": {},
     "output_type": "execute_result"
    }
   ],
   "source": [
    "word[5]"
   ]
  },
  {
   "cell_type": "markdown",
   "id": "f7ede3a4-6a8f-4e36-92f9-e16a1545d44c",
   "metadata": {},
   "source": [
    "Indices may also be negative numbers, to start counting from the right and start from -1 since 0 and -0 are same so there is no -0 if we are using negative indexes."
   ]
  },
  {
   "cell_type": "code",
   "execution_count": 59,
   "id": "853190d1-8519-4045-997b-3901a94ee2e9",
   "metadata": {},
   "outputs": [
    {
     "data": {
      "text/plain": [
       "'b'"
      ]
     },
     "execution_count": 59,
     "metadata": {},
     "output_type": "execute_result"
    }
   ],
   "source": [
    "word[-1]"
   ]
  },
  {
   "cell_type": "code",
   "execution_count": 60,
   "id": "f5c7b23c-4a5e-40ff-b3f8-bbfa0055672b",
   "metadata": {},
   "outputs": [
    {
     "data": {
      "text/plain": [
       "'S'"
      ]
     },
     "execution_count": 60,
     "metadata": {},
     "output_type": "execute_result"
    }
   ],
   "source": [
    "word[-6]"
   ]
  },
  {
   "cell_type": "markdown",
   "id": "04e44716-ae80-42f1-a199-df7ef8f7eadf",
   "metadata": {},
   "source": [
    "In addition to indexing, slicing is also supported. While indexing is used to obtain individual characters, slicing allows you to obtain a substring."
   ]
  },
  {
   "cell_type": "code",
   "execution_count": 63,
   "id": "cc41e6ca-314a-4e8b-9a0f-8b4c4c3e6b7e",
   "metadata": {},
   "outputs": [
    {
     "data": {
      "text/plain": [
       "'Shoz'"
      ]
     },
     "execution_count": 63,
     "metadata": {},
     "output_type": "execute_result"
    }
   ],
   "source": [
    "word[0:4]  # characters from position 0 (included) to 4 (excluded)"
   ]
  },
  {
   "cell_type": "code",
   "execution_count": 66,
   "id": "26a3c101-c957-44c3-a2fd-5aabf820d1d5",
   "metadata": {},
   "outputs": [
    {
     "data": {
      "text/plain": [
       "'za'"
      ]
     },
     "execution_count": 66,
     "metadata": {},
     "output_type": "execute_result"
    }
   ],
   "source": [
    "word[3:5]   # characters from position 3 (included) to 5 (excluded)"
   ]
  },
  {
   "cell_type": "markdown",
   "id": "29d37c78-8b2d-4562-9a68-4588819ebe89",
   "metadata": {},
   "source": [
    "Slice indices have useful defaults; an omitted first index defaults to zero, an omitted second index defaults to the size of the string being sliced."
   ]
  },
  {
   "cell_type": "code",
   "execution_count": 67,
   "id": "7add5bb0-da96-43be-ba65-724c1a7e371d",
   "metadata": {},
   "outputs": [
    {
     "data": {
      "text/plain": [
       "'Sh'"
      ]
     },
     "execution_count": 67,
     "metadata": {},
     "output_type": "execute_result"
    }
   ],
   "source": [
    "word[:2]"
   ]
  },
  {
   "cell_type": "code",
   "execution_count": 68,
   "id": "8460d211-4e2c-47d6-a0a9-5325e9f1d7c6",
   "metadata": {},
   "outputs": [
    {
     "data": {
      "text/plain": [
       "'ozab'"
      ]
     },
     "execution_count": 68,
     "metadata": {},
     "output_type": "execute_result"
    }
   ],
   "source": [
    "word[2:]"
   ]
  },
  {
   "cell_type": "markdown",
   "id": "2085d486-2cb8-43f2-8281-15dabc25fcc4",
   "metadata": {},
   "source": [
    "Now we can say that since the start is always included, and the end always excluded. This makes sure that s[:i] + s[i:] is always equal to s"
   ]
  },
  {
   "cell_type": "code",
   "execution_count": 70,
   "id": "c1abbaa4-df5a-4048-b9de-f90b086cdfef",
   "metadata": {},
   "outputs": [
    {
     "data": {
      "text/plain": [
       "'Shozab'"
      ]
     },
     "execution_count": 70,
     "metadata": {},
     "output_type": "execute_result"
    }
   ],
   "source": [
    "word[:2] + word[2:]"
   ]
  },
  {
   "cell_type": "code",
   "execution_count": 71,
   "id": "ee0840b8-e81a-4ce0-97e1-ed8c5f84e785",
   "metadata": {},
   "outputs": [
    {
     "data": {
      "text/plain": [
       "'Shozab'"
      ]
     },
     "execution_count": 71,
     "metadata": {},
     "output_type": "execute_result"
    }
   ],
   "source": [
    "word[:4] + word[4:]"
   ]
  },
  {
   "cell_type": "code",
   "execution_count": 72,
   "id": "f356e82e-323b-4c21-af64-a921fa0cf354",
   "metadata": {},
   "outputs": [
    {
     "data": {
      "text/plain": [
       "2"
      ]
     },
     "execution_count": 72,
     "metadata": {},
     "output_type": "execute_result"
    }
   ],
   "source": [
    "len(word[1:3])"
   ]
  },
  {
   "cell_type": "markdown",
   "id": "1d2a6918-d830-400a-a874-db482879b46b",
   "metadata": {},
   "source": [
    "If by mistake we pass the second index value that is larger than the size of string, then interpreter will handle it efficiently and consider it as the actual length of string and give us whole string as output.\n",
    "If on the other hand, we give the first index as a number greater than actual size of string, the interpreter will give us an empty string since the index is stating at number exceeding the actual length of string."
   ]
  },
  {
   "cell_type": "code",
   "execution_count": 12,
   "id": "fef5ab37-9aba-43d9-8630-958e60a4670b",
   "metadata": {},
   "outputs": [
    {
     "data": {
      "text/plain": [
       "'Shozab'"
      ]
     },
     "execution_count": 12,
     "metadata": {},
     "output_type": "execute_result"
    }
   ],
   "source": [
    "word[:52]"
   ]
  },
  {
   "cell_type": "code",
   "execution_count": 13,
   "id": "e31f940f-9339-4dba-aab4-cbaf7f123b6e",
   "metadata": {},
   "outputs": [
    {
     "data": {
      "text/plain": [
       "''"
      ]
     },
     "execution_count": 13,
     "metadata": {},
     "output_type": "execute_result"
    }
   ],
   "source": [
    "word[52:]"
   ]
  },
  {
   "cell_type": "markdown",
   "id": "9102605c-1306-4f82-9ff8-83d1149e92b3",
   "metadata": {},
   "source": [
    "Python strings cannot be changed i.e. they are immutable."
   ]
  },
  {
   "cell_type": "code",
   "execution_count": 78,
   "id": "092355da-e722-418c-a8b0-467ff01e15cc",
   "metadata": {},
   "outputs": [
    {
     "ename": "TypeError",
     "evalue": "'str' object does not support item assignment",
     "output_type": "error",
     "traceback": [
      "\u001b[1;31m---------------------------------------------------------------------------\u001b[0m",
      "\u001b[1;31mTypeError\u001b[0m                                 Traceback (most recent call last)",
      "Cell \u001b[1;32mIn[78], line 1\u001b[0m\n\u001b[1;32m----> 1\u001b[0m \u001b[43mword\u001b[49m\u001b[43m[\u001b[49m\u001b[38;5;241;43m0\u001b[39;49m\u001b[43m]\u001b[49m \u001b[38;5;241m=\u001b[39m \u001b[38;5;124m'\u001b[39m\u001b[38;5;124mb\u001b[39m\u001b[38;5;124m'\u001b[39m\n",
      "\u001b[1;31mTypeError\u001b[0m: 'str' object does not support item assignment"
     ]
    }
   ],
   "source": [
    "word[0] = 'b'"
   ]
  },
  {
   "cell_type": "markdown",
   "id": "1d4a22fa-a5ee-4c78-ac7a-c7397bc98f67",
   "metadata": {},
   "source": [
    "If we need a different string we should create a new one by conatenation using indexing or slicing"
   ]
  },
  {
   "cell_type": "code",
   "execution_count": 83,
   "id": "e5057751-04a7-4e50-b246-155a0b810495",
   "metadata": {},
   "outputs": [
    {
     "data": {
      "text/plain": [
       "'phozab'"
      ]
     },
     "execution_count": 83,
     "metadata": {},
     "output_type": "execute_result"
    }
   ],
   "source": [
    "'p' + word[1:]"
   ]
  },
  {
   "cell_type": "code",
   "execution_count": 86,
   "id": "d9d74e88-6a76-49f9-b866-21274931f347",
   "metadata": {},
   "outputs": [
    {
     "data": {
      "text/plain": [
       "'Shsh'"
      ]
     },
     "execution_count": 86,
     "metadata": {},
     "output_type": "execute_result"
    }
   ],
   "source": [
    "word[:2] + 'sh'"
   ]
  },
  {
   "cell_type": "markdown",
   "id": "fa96e5ba-4d33-4c06-b6d8-797cb2fcf014",
   "metadata": {},
   "source": [
    "#### 2.3. Lists"
   ]
  },
  {
   "cell_type": "markdown",
   "id": "6f2c0473-8272-49f2-87db-cbf0d83e4d41",
   "metadata": {},
   "source": [
    "Python knows a number of compound data types, used to group together other values. The most versatile is the list, which can be written as a list of comma-separated values (items) between square brackets. Lists might contain items of different types, but usually the items all have the same type.\n",
    "\n"
   ]
  },
  {
   "cell_type": "code",
   "execution_count": 87,
   "id": "7b0ebb96-5374-45aa-a420-355e3110ae76",
   "metadata": {},
   "outputs": [
    {
     "data": {
      "text/plain": [
       "[1, 4, 9, 16, 25]"
      ]
     },
     "execution_count": 87,
     "metadata": {},
     "output_type": "execute_result"
    }
   ],
   "source": [
    "squares = [1, 4, 9, 16, 25]\n",
    "squares"
   ]
  },
  {
   "cell_type": "markdown",
   "id": "67dd34d6-ffaa-469e-b9b2-62439374fade",
   "metadata": {},
   "source": [
    "Lists can be indexed or sliced"
   ]
  },
  {
   "cell_type": "code",
   "execution_count": 89,
   "id": "0df046ea-7840-458c-a4ee-fdaa1452edc9",
   "metadata": {},
   "outputs": [
    {
     "data": {
      "text/plain": [
       "1"
      ]
     },
     "execution_count": 89,
     "metadata": {},
     "output_type": "execute_result"
    }
   ],
   "source": [
    "squares[0]"
   ]
  },
  {
   "cell_type": "code",
   "execution_count": 90,
   "id": "3b11cdee-86d1-4734-8f47-fd896eba13a4",
   "metadata": {},
   "outputs": [
    {
     "data": {
      "text/plain": [
       "25"
      ]
     },
     "execution_count": 90,
     "metadata": {},
     "output_type": "execute_result"
    }
   ],
   "source": [
    "squares[-1]"
   ]
  },
  {
   "cell_type": "code",
   "execution_count": 92,
   "id": "6aaf362e-b95a-4d51-9563-725baf11ad08",
   "metadata": {},
   "outputs": [
    {
     "data": {
      "text/plain": [
       "[1, 4, 9, 16]"
      ]
     },
     "execution_count": 92,
     "metadata": {},
     "output_type": "execute_result"
    }
   ],
   "source": [
    "squares[:4]"
   ]
  },
  {
   "cell_type": "code",
   "execution_count": 93,
   "id": "f8b26e36-33e7-4031-961e-2974ef945352",
   "metadata": {},
   "outputs": [
    {
     "data": {
      "text/plain": [
       "[9, 16, 25]"
      ]
     },
     "execution_count": 93,
     "metadata": {},
     "output_type": "execute_result"
    }
   ],
   "source": [
    "squares[-3:]"
   ]
  },
  {
   "cell_type": "markdown",
   "id": "fcbc67f3-3826-4c8b-bc88-28a977436640",
   "metadata": {},
   "source": [
    "We can also perform concatination on lists"
   ]
  },
  {
   "cell_type": "code",
   "execution_count": 94,
   "id": "4787b60e-72e4-4eab-8228-9dc12efcc5e5",
   "metadata": {},
   "outputs": [
    {
     "data": {
      "text/plain": [
       "[1, 4, 9, 16, 25, 36, 49, 64, 81, 100]"
      ]
     },
     "execution_count": 94,
     "metadata": {},
     "output_type": "execute_result"
    }
   ],
   "source": [
    "squares + [36, 49, 64, 81, 100]"
   ]
  },
  {
   "cell_type": "markdown",
   "id": "26a4d11e-dbf0-447d-840c-5c9e3de8cbfa",
   "metadata": {},
   "source": [
    "Unlike strings, lists are mutable data type, i.e. we can changge the content of lists."
   ]
  },
  {
   "cell_type": "code",
   "execution_count": 95,
   "id": "87f257c6-5c54-49ad-9ebb-1f322679aafe",
   "metadata": {},
   "outputs": [
    {
     "data": {
      "text/plain": [
       "[1, 4, 9, 16, 25]"
      ]
     },
     "execution_count": 95,
     "metadata": {},
     "output_type": "execute_result"
    }
   ],
   "source": [
    "squares[2] = 9\n",
    "squares"
   ]
  },
  {
   "cell_type": "markdown",
   "id": "253e6363-712f-4862-9f9a-812117162139",
   "metadata": {},
   "source": [
    "we can also add new items at the end of the lists using list.append() method."
   ]
  },
  {
   "cell_type": "code",
   "execution_count": 98,
   "id": "98ca1fcc-6615-43aa-b107-fed757422bb7",
   "metadata": {},
   "outputs": [
    {
     "data": {
      "text/plain": [
       "[1, 4, 9, 16, 25, 36, 36, 49]"
      ]
     },
     "execution_count": 98,
     "metadata": {},
     "output_type": "execute_result"
    }
   ],
   "source": [
    "squares.append(49)\n",
    "squares"
   ]
  },
  {
   "cell_type": "markdown",
   "id": "d0c9aea8-85eb-4eae-89ee-faaebbbad0ec",
   "metadata": {},
   "source": [
    "Simple assignment in Python never copies data. When you assign a list to a variable, the variable refers to the existing list. Any changes you make to the list through one variable will be seen through all other variables that refer to it."
   ]
  },
  {
   "cell_type": "code",
   "execution_count": 99,
   "id": "41d38c40-b555-4d47-8162-229ad9d6aba1",
   "metadata": {},
   "outputs": [
    {
     "data": {
      "text/plain": [
       "['Red', 'Green', 'Blue', 'Alph']"
      ]
     },
     "execution_count": 99,
     "metadata": {},
     "output_type": "execute_result"
    }
   ],
   "source": [
    "rgb = [\"Red\", \"Green\", \"Blue\"]\n",
    "rgba = rgb\n",
    "id(rgb) == id(rgba)  # they reference the same object\n",
    "\n",
    "rgba.append(\"Alph\")\n",
    "rgb\n"
   ]
  },
  {
   "cell_type": "markdown",
   "id": "9d7dd477-9b2a-4706-bd5b-399d2d985dcb",
   "metadata": {},
   "source": [
    "All slice operations return a new list containing the requested elements. This means that the following slice returns a shallow copy of the list."
   ]
  },
  {
   "cell_type": "code",
   "execution_count": 100,
   "id": "b5fdf1d0-dc90-4656-abaf-bcfb65e41596",
   "metadata": {},
   "outputs": [
    {
     "data": {
      "text/plain": [
       "['Red', 'Green', 'Blue', 'Alph']"
      ]
     },
     "execution_count": 100,
     "metadata": {},
     "output_type": "execute_result"
    }
   ],
   "source": [
    "correct_rgba = rgba[:]\n",
    "correct_rgba[-1] = \"Alpha\"\n",
    "correct_rgba\n",
    "\n",
    "rgba"
   ]
  },
  {
   "cell_type": "markdown",
   "id": "83893138-175b-4ce6-a7bc-45aba051d0b0",
   "metadata": {},
   "source": [
    "Assignment to slices is also possible in python. We can also resize or empty a List."
   ]
  },
  {
   "cell_type": "code",
   "execution_count": 110,
   "id": "aab77edb-a426-4e0b-9653-93e0cc0a3953",
   "metadata": {},
   "outputs": [
    {
     "data": {
      "text/plain": [
       "['a', 'b', 'C', 'D', 'E', 'f', 'g']"
      ]
     },
     "execution_count": 110,
     "metadata": {},
     "output_type": "execute_result"
    }
   ],
   "source": [
    "letters = ['a', 'b', 'c', 'd', 'e', 'f', 'g']\n",
    "letters\n",
    "\n",
    "# replace some values\n",
    "letters[2:5] = ['C', 'D', 'E']\n",
    "letters"
   ]
  },
  {
   "cell_type": "code",
   "execution_count": 111,
   "id": "294625a6-7c58-42e6-b3c8-7bd7dd45f7c8",
   "metadata": {},
   "outputs": [
    {
     "data": {
      "text/plain": [
       "['a', 'b', 'f', 'g']"
      ]
     },
     "execution_count": 111,
     "metadata": {},
     "output_type": "execute_result"
    }
   ],
   "source": [
    "# now remove them\n",
    "letters[2:5] = []\n",
    "letters"
   ]
  },
  {
   "cell_type": "code",
   "execution_count": 112,
   "id": "19bf9c31",
   "metadata": {},
   "outputs": [
    {
     "data": {
      "text/plain": [
       "4"
      ]
     },
     "execution_count": 112,
     "metadata": {},
     "output_type": "execute_result"
    }
   ],
   "source": [
    "# we can also find the length of a string using len() function.\n",
    "\n",
    "len(letters)"
   ]
  },
  {
   "cell_type": "code",
   "execution_count": 113,
   "id": "ef4c8b84-9059-486d-8931-2c64ab8ff451",
   "metadata": {},
   "outputs": [
    {
     "data": {
      "text/plain": [
       "[]"
      ]
     },
     "execution_count": 113,
     "metadata": {},
     "output_type": "execute_result"
    }
   ],
   "source": [
    "# clear the list by replacing all the elements with an empty list\n",
    "letters[:] = []\n",
    "letters"
   ]
  },
  {
   "cell_type": "markdown",
   "id": "5ed45e3a-0930-4d26-9900-4255e7895f5a",
   "metadata": {},
   "source": [
    "In Python it is possible to nest lists inside a list (nested lists). we can use indexing to manipulate the nested lists."
   ]
  },
  {
   "cell_type": "code",
   "execution_count": 114,
   "id": "98f9a8ff-6ac8-447e-af5f-6de49a480c69",
   "metadata": {},
   "outputs": [
    {
     "data": {
      "text/plain": [
       "[['a', 'b', 'c'], [1, 2, 3]]"
      ]
     },
     "execution_count": 114,
     "metadata": {},
     "output_type": "execute_result"
    }
   ],
   "source": [
    "a = ['a', 'b', 'c']\n",
    "n = [1, 2, 3]\n",
    "x = [a, n]\n",
    "x"
   ]
  },
  {
   "cell_type": "code",
   "execution_count": 115,
   "id": "31a5c09a-4fb2-4dfe-8ce1-7907978a2e84",
   "metadata": {},
   "outputs": [
    {
     "data": {
      "text/plain": [
       "['a', 'b', 'c']"
      ]
     },
     "execution_count": 115,
     "metadata": {},
     "output_type": "execute_result"
    }
   ],
   "source": [
    "x[0]"
   ]
  },
  {
   "cell_type": "code",
   "execution_count": 116,
   "id": "c1318864-f490-42ef-b4eb-f6bbc8c3d010",
   "metadata": {},
   "outputs": [
    {
     "data": {
      "text/plain": [
       "'b'"
      ]
     },
     "execution_count": 116,
     "metadata": {},
     "output_type": "execute_result"
    }
   ],
   "source": [
    "x[0][1]"
   ]
  }
 ],
 "metadata": {
  "kernelspec": {
   "display_name": "Python 3 (ipykernel)",
   "language": "python",
   "name": "python3"
  },
  "language_info": {
   "codemirror_mode": {
    "name": "ipython",
    "version": 3
   },
   "file_extension": ".py",
   "mimetype": "text/x-python",
   "name": "python",
   "nbconvert_exporter": "python",
   "pygments_lexer": "ipython3",
   "version": "3.12.5"
  }
 },
 "nbformat": 4,
 "nbformat_minor": 5
}
