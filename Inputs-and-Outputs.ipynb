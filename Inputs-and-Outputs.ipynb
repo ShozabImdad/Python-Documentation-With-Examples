{
 "cells": [
  {
   "cell_type": "markdown",
   "id": "a8f994ef-b70b-477d-92d7-be9302cffb44",
   "metadata": {},
   "source": [
    "# 5. Inputs And Outputs"
   ]
  },
  {
   "cell_type": "markdown",
   "id": "2e033f7d-ba68-4133-82eb-40f7c00aafb6",
   "metadata": {},
   "source": [
    "There are several ways to present output to a user."
   ]
  },
  {
   "cell_type": "markdown",
   "id": "56748107-3b2a-47b1-8570-f9216905a33d",
   "metadata": {},
   "source": [
    "#### Otuput Formatting:"
   ]
  },
  {
   "cell_type": "markdown",
   "id": "b66ec0e1-fbfc-4f77-8abb-bae89d346dff",
   "metadata": {},
   "source": [
    "###### 1. Using format() method:"
   ]
  },
  {
   "cell_type": "markdown",
   "id": "92c8db76-ff85-411f-81ef-e6ae19c3e0c9",
   "metadata": {},
   "source": [
    "We use {} to mark where a variable will be placed and start/ begin the string with f or F before the opening quotation mark, but we will also need to provide the information to be formatted."
   ]
  },
  {
   "cell_type": "code",
   "execution_count": 5,
   "id": "ffccc67d-6abd-4c21-9179-48625346a682",
   "metadata": {},
   "outputs": [
    {
     "name": "stdout",
     "output_type": "stream",
     "text": [
      "Their names are Ali and \"Aurrad!\"\n",
      "Ali and Aurrad\n",
      "Aurrad and Ali\n",
      "Number one portal is Geeks, For, and Geeks.\n",
      "Geeks :12, Portal :    0.55\n"
     ]
    }
   ],
   "source": [
    "print('Their names are {} and \"{}!\"'.format('Ali', 'Aurrad'))\n",
    "\n",
    "print('{0} and {1}'.format('Ali', 'Aurrad'))      # using format() method and referring a position of the object\n",
    "\n",
    "print('{1} and {0}'.format('Ali', 'Aurrad'))\n",
    "\n",
    "print('Number one portal is {0}, {1}, and {other}.'.format('Geeks', 'For', other ='Geeks'))    # combining positional and keyword arguments\n",
    "\n",
    "print(\"Geeks :{0:2d}, Portal :{1:8.2f}\".format(12, 00.546))     # using format() method with number "
   ]
  },
  {
   "cell_type": "markdown",
   "id": "4d0197ba-bcd8-4bd4-a702-cf0d0bcbb295",
   "metadata": {},
   "source": [
    "###### 2. Using % opeartor"
   ]
  },
  {
   "cell_type": "markdown",
   "id": "dddb0b28-5e49-459a-b35e-e1500f4fb43f",
   "metadata": {},
   "source": [
    "We can format output using the string modulo operator %. This operator is unique to strings and makes up for the pack of having functions from C's printf() family. Format specification symbols like %d (Digit integer), %c (special caharcter), %f (float), and %s (string) are used as placeholders in a string."
   ]
  },
  {
   "cell_type": "code",
   "execution_count": 9,
   "id": "9132236c-80a5-436c-9012-cefbfc5ccf04",
   "metadata": {},
   "outputs": [
    {
     "name": "stdout",
     "output_type": "stream",
     "text": [
      "My name is Shozab and weight is 72 kg!\n"
     ]
    }
   ],
   "source": [
    "print (\"My name is %s and weight is %d kg!\" % ('Shozab', 72))"
   ]
  },
  {
   "cell_type": "code",
   "execution_count": null,
   "id": "e699a208-2198-428a-a768-e4dbff206dbe",
   "metadata": {},
   "outputs": [],
   "source": []
  }
 ],
 "metadata": {
  "kernelspec": {
   "display_name": "Python 3 (ipykernel)",
   "language": "python",
   "name": "python3"
  },
  "language_info": {
   "codemirror_mode": {
    "name": "ipython",
    "version": 3
   },
   "file_extension": ".py",
   "mimetype": "text/x-python",
   "name": "python",
   "nbconvert_exporter": "python",
   "pygments_lexer": "ipython3",
   "version": "3.12.5"
  }
 },
 "nbformat": 4,
 "nbformat_minor": 5
}
