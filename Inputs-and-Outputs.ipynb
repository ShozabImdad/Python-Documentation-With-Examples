{
 "cells": [
  {
   "cell_type": "markdown",
   "id": "a8f994ef-b70b-477d-92d7-be9302cffb44",
   "metadata": {},
   "source": [
    "# 5. Inputs And Outputs"
   ]
  },
  {
   "cell_type": "code",
   "execution_count": null,
   "id": "1dd31b38-a4b0-4eb5-8b1b-c763a222f53d",
   "metadata": {},
   "outputs": [],
   "source": []
  }
 ],
 "metadata": {
  "kernelspec": {
   "display_name": "Python 3 (ipykernel)",
   "language": "python",
   "name": "python3"
  },
  "language_info": {
   "codemirror_mode": {
    "name": "ipython",
    "version": 3
   },
   "file_extension": ".py",
   "mimetype": "text/x-python",
   "name": "python",
   "nbconvert_exporter": "python",
   "pygments_lexer": "ipython3",
   "version": "3.12.5"
  }
 },
 "nbformat": 4,
 "nbformat_minor": 5
}
