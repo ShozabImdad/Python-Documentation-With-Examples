{
 "cells": [
  {
   "cell_type": "markdown",
   "id": "3132a708-2085-4f0e-87eb-38d3f78eb27c",
   "metadata": {},
   "source": [
    "# 3. Conrol Flow Tools"
   ]
  },
  {
   "cell_type": "markdown",
   "id": "46454673-81f5-4c09-a911-c63b947968be",
   "metadata": {},
   "source": [
    "#### some important definitions"
   ]
  },
  {
   "cell_type": "markdown",
   "id": "9304ef66-9ce9-4ce8-a289-f18cb16f4fcc",
   "metadata": {},
   "source": [
    "Iteration means executing the same block of code over and over, potentially many times. A programming structure that implements iteration is called a loop. There are two types of iterations indefinite and definite.\n",
    "1. ##### Indefinite iterations:\n",
    "    With indefinite iteration, the number of times the loop is executed isn’t specified explicitly in advance. Rather, the designated block is executed repeatedly as long as some condition is met.\n",
    "2. ##### Definite iterations:\n",
    "   With definite iteration, the number of times the designated block will be executed is specified explicitly at the time the loop starts."
   ]
  },
  {
   "cell_type": "markdown",
   "id": "8f8c1c64-25c7-4918-882e-23ae403e37f1",
   "metadata": {},
   "source": [
    "#### 3.1. if Statements"
   ]
  },
  {
   "cell_type": "markdown",
   "id": "1df78639-2c4e-44fe-84da-77de87c029b7",
   "metadata": {},
   "source": [
    "In python if statement is the most well known and commonly used statement.\n",
    "We use elif which is a shorter form of else if in other languages, and the else part is optional.\n",
    "if statement is the substitution of switch case statement in other languages.\n",
    "if-else statement basically first of all checks wether the condition in if is fulfilled, then executes the code in the if statement. if the condition is not fulfilled the the control shifts to the elif part and if that condition is not fulfilled either the process goes on and on, and the else part is optional"
   ]
  },
  {
   "cell_type": "code",
   "execution_count": 2,
   "id": "1bbea83b-1718-4ac9-83e1-0a72c134dbc2",
   "metadata": {},
   "outputs": [
    {
     "name": "stdin",
     "output_type": "stream",
     "text": [
      "Please enter the first integer:  22\n",
      "Please enter the second integer:  44\n"
     ]
    },
    {
     "name": "stdout",
     "output_type": "stream",
     "text": [
      "Second Number is Greater\n"
     ]
    }
   ],
   "source": [
    "x = int(input(\"Please enter the first integer: \"))  # since python by defaults takes an input as string so we need to convert it in integer or any datatype that we want.\n",
    "y = int(input(\"Please enter the second integer: \"))\n",
    "\n",
    "if x < y:\n",
    "    print('Second Number is Greater')\n",
    "elif x == y:\n",
    "    print('Both Numbers are Equal')\n",
    "elif x > y:\n",
    "    print('First Number is Greater')\n",
    "else:\n",
    "    print('Error')\n"
   ]
  },
  {
   "cell_type": "markdown",
   "id": "abac9887-73f0-43fb-81ca-c0a174f4b307",
   "metadata": {},
   "source": [
    "#### 3.2. for statements"
   ]
  },
  {
   "cell_type": "markdown",
   "id": "c4938031-ef74-4e16-90be-e82071c16b75",
   "metadata": {},
   "source": [
    "The for loop works by running the code within its scope until the specified condition is no longer true, allowing us to perform tasks such as iterating over a list, array, or collection until the end of the sequence is reached, or performing a certain action a set number of times. In addition, a for loop is designed to move to the next element in the sequence after each iteration, ensuring that each item is processed.\n",
    "\n",
    "In python the for loop directly iterates over the items of any sequence wether strings or lists in the order they appear, without requiring the index variable for iteration, which is required in other languages."
   ]
  },
  {
   "cell_type": "code",
   "execution_count": 3,
   "id": "ba812947-414a-4654-8fbf-d608ce015d82",
   "metadata": {},
   "outputs": [
    {
     "name": "stdout",
     "output_type": "stream",
     "text": [
      "Python\n",
      "C++\n",
      "C#\n",
      "Fortran\n"
     ]
    }
   ],
   "source": [
    "languages = ['Python', 'C++', 'C#', 'Fortran']\n",
    "\n",
    "for lang in languages:\n",
    "    print(lang)"
   ]
  },
  {
   "cell_type": "code",
   "execution_count": 4,
   "id": "514a38b9-4906-4a70-857b-a5f05f823878",
   "metadata": {},
   "outputs": [
    {
     "name": "stdout",
     "output_type": "stream",
     "text": [
      "P\n",
      "a\n",
      "k\n",
      "i\n",
      "s\n",
      "t\n",
      "a\n",
      "n\n"
     ]
    }
   ],
   "source": [
    "word = 'Pakistan'\n",
    "for i in word:\n",
    "    print(i)"
   ]
  },
  {
   "cell_type": "markdown",
   "id": "f003b654-f91e-41a2-917f-536e5a4f5951",
   "metadata": {},
   "source": [
    "#### 3.3. The range() function"
   ]
  },
  {
   "cell_type": "markdown",
   "id": "ae0fe0fa-6a88-4e0f-8ef0-96f8fe8c258f",
   "metadata": {},
   "source": [
    "The range() function returns a sequence of numbers, starting from 0 by default, and increments by 1 (by default), and stops before a specified number.\n",
    "\n",
    "Syntax of range function is range(start, end, step count)"
   ]
  },
  {
   "cell_type": "code",
   "execution_count": 5,
   "id": "63cc0963-bfd9-49ab-9f3f-2c4da9a0cc96",
   "metadata": {},
   "outputs": [
    {
     "data": {
      "text/plain": [
       "range(0, 10)"
      ]
     },
     "execution_count": 5,
     "metadata": {},
     "output_type": "execute_result"
    }
   ],
   "source": [
    "range(10)"
   ]
  },
  {
   "cell_type": "code",
   "execution_count": 6,
   "id": "3aa5c8e7-4ade-47df-a842-533f271514a8",
   "metadata": {},
   "outputs": [
    {
     "data": {
      "text/plain": [
       "[0, 1, 2, 3, 4, 5, 6, 7, 8, 9]"
      ]
     },
     "execution_count": 6,
     "metadata": {},
     "output_type": "execute_result"
    }
   ],
   "source": [
    "list(range(10))"
   ]
  },
  {
   "cell_type": "code",
   "execution_count": 7,
   "id": "bb1f8098-a452-4411-bc1f-0b75038cecf1",
   "metadata": {},
   "outputs": [
    {
     "data": {
      "text/plain": [
       "[0, 2, 4, 6, 8]"
      ]
     },
     "execution_count": 7,
     "metadata": {},
     "output_type": "execute_result"
    }
   ],
   "source": [
    "list(range(0,10,2))"
   ]
  },
  {
   "cell_type": "code",
   "execution_count": 8,
   "id": "9aa45098-3c2b-4c9a-b8bf-5fdcf5bfbbaa",
   "metadata": {},
   "outputs": [
    {
     "data": {
      "text/plain": [
       "[-100, -70, -40]"
      ]
     },
     "execution_count": 8,
     "metadata": {},
     "output_type": "execute_result"
    }
   ],
   "source": [
    "list(range(-100,-10,30))"
   ]
  },
  {
   "cell_type": "code",
   "execution_count": 9,
   "id": "9dd3d5bd-0c3a-42e0-899d-6a7b341eddbe",
   "metadata": {},
   "outputs": [
    {
     "data": {
      "text/plain": [
       "[-10, -40, -70]"
      ]
     },
     "execution_count": 9,
     "metadata": {},
     "output_type": "execute_result"
    }
   ],
   "source": [
    "list(range(-10,-100,-30))"
   ]
  },
  {
   "cell_type": "code",
   "execution_count": 10,
   "id": "b986ddf6-2243-42b5-affa-e4fad591aa60",
   "metadata": {},
   "outputs": [
    {
     "name": "stdout",
     "output_type": "stream",
     "text": [
      "0\n",
      "1\n",
      "2\n",
      "3\n",
      "4\n",
      "5\n",
      "6\n",
      "7\n",
      "8\n",
      "9\n"
     ]
    }
   ],
   "source": [
    "for i in range(10):\n",
    "    print(i)"
   ]
  },
  {
   "cell_type": "code",
   "execution_count": 11,
   "id": "f3c9d711-b24e-4c73-a3ad-38aaeb27fa15",
   "metadata": {},
   "outputs": [
    {
     "name": "stdout",
     "output_type": "stream",
     "text": [
      "0 Python\n",
      "1 C++\n",
      "2 C#\n",
      "3 Fortran\n"
     ]
    }
   ],
   "source": [
    "for i in range(len(languages)):\n",
    "    print(i, languages[i])"
   ]
  },
  {
   "cell_type": "code",
   "execution_count": 12,
   "id": "78373f42-d750-494a-bd3c-f7361b6e4562",
   "metadata": {},
   "outputs": [
    {
     "data": {
      "text/plain": [
       "15"
      ]
     },
     "execution_count": 12,
     "metadata": {},
     "output_type": "execute_result"
    }
   ],
   "source": [
    "sum(range(6))"
   ]
  },
  {
   "cell_type": "markdown",
   "id": "1fcff199-66ca-41e4-ab51-d895f8960752",
   "metadata": {},
   "source": [
    "#### 3.4. While loop"
   ]
  },
  {
   "cell_type": "markdown",
   "id": "c68a6ec9-c437-4f76-a93f-9caf9265719d",
   "metadata": {},
   "source": [
    "The format of while loop is:\n",
    "\n",
    "     while <expression>:\n",
    "         <statement>\n",
    "         \n",
    "     <statements> represent the block of code or action to be performed.\n",
    "     <expression> represents the controlling expression or some condition. while loop iterates on the basis of this expression.\n",
    "\n",
    "    When a while loop is encountered, <expr> is first evaluated in Boolean context(true/false). If it is true, the loop body is executed. Then <expression> is checked again, and if still true, the body is executed again. This continues until <exprression> becomes false, at which point program execution proceeds to the first statement beyond the loop body.\n",
    "        "
   ]
  },
  {
   "cell_type": "code",
   "execution_count": 13,
   "id": "5cdc8dfb-56f2-499d-bd7a-c0d21787a5b8",
   "metadata": {},
   "outputs": [
    {
     "name": "stdout",
     "output_type": "stream",
     "text": [
      "5\n",
      "4\n",
      "3\n",
      "2\n",
      "1\n"
     ]
    }
   ],
   "source": [
    "n = 5\n",
    "while n>0:\n",
    "    print(n)\n",
    "    n -= 1"
   ]
  },
  {
   "cell_type": "code",
   "execution_count": 14,
   "id": "8c82fe8a-f076-4026-b518-5d529011e5af",
   "metadata": {},
   "outputs": [
    {
     "name": "stdout",
     "output_type": "stream",
     "text": [
      "Fortran\n",
      "C#\n",
      "C++\n",
      "Python\n"
     ]
    }
   ],
   "source": [
    "while languages:\n",
    "    print(languages.pop(-1))"
   ]
  },
  {
   "cell_type": "markdown",
   "id": "8e4e78fa-2f0b-4731-bd63-78cfffe75fcb",
   "metadata": {},
   "source": [
    "#### 3.5. Break and Continue statements"
   ]
  },
  {
   "cell_type": "markdown",
   "id": "353f820a-1973-484b-b3f4-2405cb1d0998",
   "metadata": {},
   "source": [
    "1. The python break statement immediately terminates the current loop iteration. Transfers the flow of control to the first statement immediately after the loop.\n",
    "\n",
    "2. The python continue statement also immediately terminates the current loop iteration. Transfers the execution to the top of the loop and re-evaluates the controlling expressions to determine wether the current loop execute again or terminate."
   ]
  },
  {
   "cell_type": "code",
   "execution_count": 16,
   "id": "a911a23f-5a60-4c57-a53b-25bc97fc4972",
   "metadata": {},
   "outputs": [
    {
     "name": "stdout",
     "output_type": "stream",
     "text": [
      "4\n",
      "3\n",
      "Loop ended.\n"
     ]
    }
   ],
   "source": [
    "n = 5\n",
    "while n > 0:\n",
    "    n -= 1\n",
    "    if n == 2:\n",
    "        break\n",
    "    print(n)\n",
    "print('Loop ended.')"
   ]
  },
  {
   "cell_type": "code",
   "execution_count": 17,
   "id": "f4b4223b-b499-40d6-925c-52c5a48d9e3e",
   "metadata": {},
   "outputs": [
    {
     "name": "stdout",
     "output_type": "stream",
     "text": [
      "4\n",
      "3\n",
      "1\n",
      "0\n",
      "Loop ended.\n"
     ]
    }
   ],
   "source": [
    "n = 5\n",
    "while n > 0:\n",
    "    n -= 1\n",
    "    if n == 2:\n",
    "        continue\n",
    "    print(n)\n",
    "print('Loop ended.')"
   ]
  },
  {
   "cell_type": "markdown",
   "id": "0b5fbf32-6d45-49fb-8f75-41f65c9c44f4",
   "metadata": {},
   "source": [
    "#### 3.6. The Else Clause"
   ]
  },
  {
   "cell_type": "markdown",
   "id": "887c1853-ad55-4833-9374-3b2a6aedf4f9",
   "metadata": {},
   "source": [
    "Python allows an optional else clause at the end of a while loop. This is a unique feature of Python, not found in most other programming languages. The syntax of while-else statement is:\n",
    "\n",
    "    while <expr>:\n",
    "        <statement(s)>\n",
    "    else:\n",
    "        <additional_statement>\n",
    "\n",
    "when an <additional_statement> is placed in else clause, it will be executed only if the controlling statement becomes false. On the other hand iff the while loop is excited by a break statement the else clause will never be executed. The examples of both the scenarios are given below."
   ]
  },
  {
   "cell_type": "code",
   "execution_count": 2,
   "id": "0a2b744a-2421-4915-b927-aaeb3392ec28",
   "metadata": {},
   "outputs": [
    {
     "name": "stdout",
     "output_type": "stream",
     "text": [
      "4\n",
      "3\n",
      "2\n",
      "1\n",
      "0\n",
      "Loop Terminated\n"
     ]
    }
   ],
   "source": [
    "# while-else statement without break :\n",
    "\n",
    "n = 5\n",
    "while n > 0:\n",
    "    n -= 1\n",
    "    print(n)\n",
    "else :\n",
    "    print(\"Loop Terminated\")"
   ]
  },
  {
   "cell_type": "code",
   "execution_count": 3,
   "id": "a55a04b5-5fa5-451c-b2dd-dabb3b27e480",
   "metadata": {},
   "outputs": [
    {
     "name": "stdout",
     "output_type": "stream",
     "text": [
      "4\n",
      "3\n",
      "2\n"
     ]
    }
   ],
   "source": [
    "# while-else statement with break :\n",
    "\n",
    "n = 5\n",
    "while n > 0:\n",
    "    n -= 1\n",
    "    print(n)\n",
    "    if n == 2 :\n",
    "        break\n",
    "else :\n",
    "    print(\"Loop Terminated\")"
   ]
  },
  {
   "cell_type": "markdown",
   "id": "ce85f68c-e694-4342-90ed-3af7b7dca56a",
   "metadata": {},
   "source": [
    "#### 3.7. Pass Statement :"
   ]
  },
  {
   "cell_type": "markdown",
   "id": "5fc4b603-ba4f-44a5-8693-b5db131f0d2b",
   "metadata": {},
   "source": [
    "In Python the pass keyword actually does nothing, but it is actually very useful for a statement that does nothing. Because in python for exmple afer any if or for statement we need to paas a statement to execyte we can not leave that part empty so if we want to do that part later and do not want the interpreter to throw error, we use pass keyword. For example:"
   ]
  },
  {
   "cell_type": "code",
   "execution_count": 4,
   "id": "0e842bbb-262b-40ee-9917-245378d5c870",
   "metadata": {},
   "outputs": [
    {
     "name": "stdout",
     "output_type": "stream",
     "text": [
      "y is greater than x\n"
     ]
    }
   ],
   "source": [
    "x = 2\n",
    "y = 3\n",
    "if x > y :\n",
    "    pass\n",
    "else:\n",
    "    print(\"y is greater than x\")"
   ]
  },
  {
   "cell_type": "markdown",
   "id": "10e59ef1-620a-48c8-a5f4-9b8a5682793f",
   "metadata": {},
   "source": [
    "#### 3.8. Match case statement:"
   ]
  },
  {
   "cell_type": "markdown",
   "id": "c7cde082-7456-4e05-a7e0-29272d3e379c",
   "metadata": {},
   "source": [
    "Python Match Case statement is same as switch case statement in other languages. Here we have to first pass a parameter and then try to check with which case the parameter is getting satisfied.In Python match case statement, the exact value is compared and matched with the case pattern value. There are different test cases and their corresponding code which will execute only when a case is matched. Otherwise, there is a default case which executes when all the defined cases are not matched."
   ]
  },
  {
   "cell_type": "code",
   "execution_count": 9,
   "id": "7efb2c9b-6e91-407b-a7fb-f93d5fbf4966",
   "metadata": {},
   "outputs": [
    {
     "ename": "SyntaxError",
     "evalue": "invalid syntax (231731070.py, line 4)",
     "output_type": "error",
     "traceback": [
      "\u001b[1;36m  Cell \u001b[1;32mIn[9], line 4\u001b[1;36m\u001b[0m\n\u001b[1;33m    match num:\u001b[0m\n\u001b[1;37m          ^\u001b[0m\n\u001b[1;31mSyntaxError\u001b[0m\u001b[1;31m:\u001b[0m invalid syntax\n"
     ]
    }
   ],
   "source": [
    "def num_match():\n",
    "    num = int(input(\"Please Enter a Number between 1 and 3\"))\n",
    "    \n",
    "    match num:\n",
    "        case 1:\n",
    "            print(\"One\")\n",
    "        case 2:\n",
    "            print(\"Two\")\n",
    "        case 3:\n",
    "            print(\"Three\")\n",
    "        case _:\n",
    "            print(\"Number not in the correct range\")\n",
    "\n",
    "num_match()\n",
    "            \n",
    "    "
   ]
  },
  {
   "cell_type": "code",
   "execution_count": null,
   "id": "20bee721-8cdb-4fe9-b5e8-221a2bf5c121",
   "metadata": {},
   "outputs": [],
   "source": []
  },
  {
   "cell_type": "code",
   "execution_count": null,
   "id": "8ccba9fc-f903-45cb-bfc9-2834fc2b12d8",
   "metadata": {},
   "outputs": [],
   "source": []
  }
 ],
 "metadata": {
  "kernelspec": {
   "display_name": "Python 3 (ipykernel)",
   "language": "python",
   "name": "python3"
  },
  "language_info": {
   "codemirror_mode": {
    "name": "ipython",
    "version": 3
   },
   "file_extension": ".py",
   "mimetype": "text/x-python",
   "name": "python",
   "nbconvert_exporter": "python",
   "pygments_lexer": "ipython3",
   "version": "3.12.5"
  }
 },
 "nbformat": 4,
 "nbformat_minor": 5
}
