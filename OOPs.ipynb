{
 "cells": [
  {
   "cell_type": "markdown",
   "id": "5c47f9e9-bd7d-4d79-81c0-85e088b7aff9",
   "metadata": {},
   "source": [
    "# Obejct Oriented Programming in Python"
   ]
  },
  {
   "cell_type": "markdown",
   "id": "e69838a4-5482-4231-8b53-e6dad86ec9fc",
   "metadata": {},
   "source": [
    "In Python object-oriented Programming (OOPs) is a programming paradigm that uses objects and classes in programming. It aims to implement real-world entities like inheritance, polymorphisms, encapsulation, etc. in the programming. The main concept of object-oriented Programming (OOPs) or oops concepts in Python is to bind the data and the functions that work together as a single unit so that no other part of the code can access this data."
   ]
  },
  {
   "cell_type": "markdown",
   "id": "08e49b2d-149b-4809-b1df-33f83fb2e879",
   "metadata": {},
   "source": [
    "#### OOPs Concepts in Python:"
   ]
  },
  {
   "cell_type": "markdown",
   "id": "802abc70-8e7a-44ec-9a6d-831031983683",
   "metadata": {},
   "source": [
    "1. Classes.\n",
    "2. Objects.\n",
    "3. Polymorphism.\n",
    "4. Encapsulation.\n",
    "5. Inheritance.\n",
    "6. Data Abstraction."
   ]
  },
  {
   "cell_type": "markdown",
   "id": "da9c2404-55d6-458b-86bb-b8000f52d99f",
   "metadata": {},
   "source": [
    "###### Classes and Objects:\n",
    "\n",
    "A class is a collection of objects. A class contains the blueprints or the prototype from which the objects are being created. It is a logical entity that contains some attributes and methods. To create a class we use \"class\" keyword.\n",
    "\n",
    "Objects are simply the instances of a class. Objects can also contain methods. Methods in objects are functions that belong to the object.\n",
    "\n",
    "The '__init__()'function:\n",
    "    All classes have a function called \"__init__()\", which is always executed when the class is being initiated. The __init__() function is used to assign values to object properties, or other operations that are necessary to do when the object is being created.\n",
    "\n",
    "The self Parameter:\n",
    "    The self parameter is a reference to the current instance of the class, and is used to access variables that belongs to the class. It ia juat like \"this\" keyword used in java. "
   ]
  },
  {
   "cell_type": "code",
   "execution_count": 5,
   "id": "21cf74b2-b988-4643-9a28-28a37b3fc1ba",
   "metadata": {},
   "outputs": [
    {
     "name": "stdout",
     "output_type": "stream",
     "text": [
      "Toyota\n",
      "Corolla\n",
      "Honda\n",
      "Civic\n"
     ]
    }
   ],
   "source": [
    "class Car:\n",
    "    def __init__(self, brand, model):\n",
    "        self.brand = brand\n",
    "        self.model = model\n",
    "\n",
    "my_car = Car(\"Toyota\", \"Corolla\")\n",
    "print(my_car.brand)\n",
    "print(my_car.model)\n",
    "\n",
    "my_car = Car(\"Honda\", \"Civic\")\n",
    "print(my_car.brand)\n",
    "print(my_car.model)"
   ]
  },
  {
   "cell_type": "code",
   "execution_count": 12,
   "id": "05fb459e-44a6-4b4e-af35-49bb2405574e",
   "metadata": {},
   "outputs": [
    {
     "name": "stdout",
     "output_type": "stream",
     "text": [
      "Toyota\n",
      "Corolla\n",
      "Brand: Toyota    Model: Corolla\n"
     ]
    }
   ],
   "source": [
    "class Car:\n",
    "    def __init__(self, brand, model):\n",
    "        self.brand = brand\n",
    "        self.model = model\n",
    "\n",
    "    def name(self): \n",
    "        return(f\"Brand: {self.brand}    Model: {self.model}\")\n",
    "\n",
    "my_car = Car(\"Toyota\", \"Corolla\")\n",
    "print(my_car.brand)\n",
    "print(my_car.model)\n",
    "print(my_car.name())"
   ]
  },
  {
   "cell_type": "markdown",
   "id": "a7684c40-e484-432d-9857-b67554624968",
   "metadata": {},
   "source": [
    "###### Inheritance:\n",
    "\n",
    "    In Python object oriented Programming, Inheritance is the capability of one class to derive or inherit the properties from another class. The class that derives properties is called the derived class or child class and the class from which the properties are being derived is called the base class or parent class.\n",
    "\n",
    "    Types of Inheritance:\n",
    "        1. Single Inheritance.\n",
    "        2. Multilevel Inheritance.\n",
    "        3. Hierarichal Inheritance.\n",
    "        4. Multiple Inheritance."
   ]
  },
  {
   "cell_type": "code",
   "execution_count": 14,
   "id": "f9f3d257-9388-449a-a668-e785489852cc",
   "metadata": {},
   "outputs": [
    {
     "name": "stdout",
     "output_type": "stream",
     "text": [
      "Brand: Tesla    Model: Model S\n"
     ]
    }
   ],
   "source": [
    "class Car:\n",
    "    def __init__(self, brand, model):\n",
    "        self.brand = brand\n",
    "        self.model = model\n",
    "\n",
    "    def name(self): \n",
    "        return(f\"Brand: {self.brand}    Model: {self.model}\")\n",
    "\n",
    "class ElectricCar(Car):\n",
    "    def __init__(self, brand, model, battery_size):\n",
    "        super().__init__(brand, model)\n",
    "        self.battery_size = battery_size\n",
    "\n",
    "my_electric_car = ElectricCar(\"Tesla\", \"Model S\", \"85KWH\")\n",
    "print(my_electric_car.name())"
   ]
  },
  {
   "cell_type": "markdown",
   "id": "36ee7174-2a12-4994-bdd8-19530a43667f",
   "metadata": {},
   "source": [
    "###### Encapsulation:\n",
    "\n",
    "    In Python object oriented programming, Encapsulation is one of the fundamental concepts in object-oriented programming (OOP). It describes the idea of wrapping data and the methods that work on data within one unit. This puts restrictions on accessing variables and methods directly and can prevent the accidental modification of data. To prevent accidental change, an object’s variable can only be changed by an object’s method. Those types of variables are known as private variables.\n",
    "\n",
    "    Private instance variables are the variables, that cannot be accessed except from inside an object. In Python to to declare a variable private we use double underscore before naming the variable (__varname)."
   ]
  },
  {
   "cell_type": "code",
   "execution_count": 20,
   "id": "36fca756-c026-46fd-90b8-1ba11bb0466c",
   "metadata": {},
   "outputs": [
    {
     "name": "stdout",
     "output_type": "stream",
     "text": [
      "Toyota!\n",
      "Corolla\n"
     ]
    }
   ],
   "source": [
    "class Car:\n",
    "    def __init__(self, brand, model):\n",
    "        self.__brand = brand\n",
    "        self.model = model\n",
    "\n",
    "    def name(self): \n",
    "        return(f\"Brand: {self.__brand}    Model: {self.model}\")\n",
    "\n",
    "    def get_brand(self):\n",
    "        return self.__brand + \"!\"\n",
    "\n",
    "my_car = Car(\"Toyota\", \"Corolla\")\n",
    "print(my_car.get_brand())\n",
    "print(my_car.model)\n",
    "\n",
    "# print(my_car.brand)       # This will give error since now the brand variable is private.  \n",
    "# print(my_car.__brand)     # This will also give error since now the brand variable is private, and we can not acce it directly. Rather we can acces it using a speified getter method.   "
   ]
  },
  {
   "cell_type": "markdown",
   "id": "6037fe3c-a87c-4afa-abeb-4f442b9bdbc1",
   "metadata": {},
   "source": [
    "###### Polymorphism:\n",
    "\n",
    "    In object oriented Programming Python, Polymorphism simply means having many forms. For example, we need to determine type of fuel that a car consume, using polymorphism we can do this using a single function.\n",
    "\n",
    "    Below code demonstrates the concept of Python oops inheritance and method overriding in Python classes. It shows how subclasses can override methods defined in their parent class to provide specific behavior while still inheriting other methods from the parent class."
   ]
  },
  {
   "cell_type": "code",
   "execution_count": 22,
   "id": "ab8cae8d-e15b-4699-b0b9-9f8f978735ed",
   "metadata": {},
   "outputs": [
    {
     "name": "stdout",
     "output_type": "stream",
     "text": [
      "Electric Charge\n",
      "Patrol or Diesel\n"
     ]
    }
   ],
   "source": [
    "class Car:\n",
    "    def __init__(self, brand, model):\n",
    "        self.brand = brand\n",
    "        self.model = model\n",
    "\n",
    "    def name(self): \n",
    "        return(f\"Brand: {self.brand}    Model: {self.model}\")\n",
    "\n",
    "    def fuel_type(self):\n",
    "        return \"Patrol or Diesel\"\n",
    "\n",
    "class ElectricCar(Car):\n",
    "    def __init__(self, brand, model, battery_size):\n",
    "        super().__init__(brand, model)\n",
    "        self.battery_size = battery_size\n",
    "\n",
    "    def fuel_type(self):\n",
    "        return \"Electric Charge\"\n",
    "\n",
    "my_electric_car = ElectricCar(\"Tesla\", \"Model S\", \"85KWH\")\n",
    "print(my_electric_car.fuel_type())\n",
    "\n",
    "my_car = Car(\"Toyota\", \"Corolla\")\n",
    "print(my_car.fuel_type())"
   ]
  },
  {
   "cell_type": "markdown",
   "id": "b2b5e738-4d2e-40c7-8295-cf98203a0f7c",
   "metadata": {},
   "source": [
    "###### Class and Instance Variables:\n",
    "\n",
    "    An instzance variable is the data unique to each instance of the class, while a class varibale is the data that can be accessed by every instance.\n",
    "    Example of instance and class variables are below:"
   ]
  },
  {
   "cell_type": "code",
   "execution_count": 25,
   "id": "efb7703e-0e42-4493-a24b-9442cfb456cb",
   "metadata": {},
   "outputs": [
    {
     "name": "stdout",
     "output_type": "stream",
     "text": [
      "Electric Charge\n",
      "Patrol or Diesel\n",
      "2\n"
     ]
    }
   ],
   "source": [
    "class Car:\n",
    "\n",
    "    total_cars = 0    # Class Variable\n",
    "    \n",
    "    def __init__(self, brand, model):\n",
    "        self.brand = brand   # Instance Variable\n",
    "        self.model = model   # Instance Variable\n",
    "        Car.total_cars += 1\n",
    "\n",
    "    def name(self): \n",
    "        return(f\"Brand: {self.brand}    Model: {self.model}\")\n",
    "\n",
    "    def fuel_type(self):\n",
    "        return \"Patrol or Diesel\"\n",
    "\n",
    "class ElectricCar(Car):\n",
    "    def __init__(self, brand, model, battery_size):\n",
    "        super().__init__(brand, model)\n",
    "        self.battery_size = battery_size\n",
    "\n",
    "    def fuel_type(self):\n",
    "        return \"Electric Charge\"\n",
    "\n",
    "my_electric_car = ElectricCar(\"Tesla\", \"Model S\", \"85KWH\")\n",
    "print(my_electric_car.fuel_type())\n",
    "\n",
    "my_car = Car(\"Toyota\", \"Corolla\")\n",
    "print(my_car.fuel_type())\n",
    "\n",
    "print(Car.total_cars)"
   ]
  },
  {
   "cell_type": "markdown",
   "id": "517147ae-9bbb-4021-9d76-942f00426ce8",
   "metadata": {},
   "source": [
    "###### Static Methods: \n",
    "\n",
    "    A static method is simply a method that is on;y accesible by the class but not it's instances (objects). To make a class static we just need to add a decorator @staticmethod above the method."
   ]
  },
  {
   "cell_type": "code",
   "execution_count": 50,
   "id": "9762fde2-02cb-4554-9997-96bc2afe0904",
   "metadata": {},
   "outputs": [
    {
     "name": "stdout",
     "output_type": "stream",
     "text": [
      "Corolla\n"
     ]
    }
   ],
   "source": [
    "class Car:\n",
    "\n",
    "    total_cars = 0    # Class Variable\n",
    "    \n",
    "    def __init__(self, brand, model):\n",
    "        self.brand = brand   # Instance Variable\n",
    "        self.__model = model   # Instance Variable\n",
    "        Car.total_cars += 1\n",
    "\n",
    "    def name(self): \n",
    "        return(f\"Brand: {self.brand}    Model: {self.__model}\")\n",
    "\n",
    "    def fuel_type(self):\n",
    "        return \"Patrol or Diesel\"\n",
    "        \n",
    "    @staticmethod\n",
    "    def general_desc():\n",
    "        return \"Cars are an means of transport.\"  \n",
    "\n",
    "    @property\n",
    "    def model(self):\n",
    "        return self.__model\n",
    "\n",
    "my_car = Car(\"Toyota\", \"Corolla\")\n",
    "\n",
    "print(my_car.model)\n"
   ]
  },
  {
   "cell_type": "markdown",
   "id": "f4767332-a581-41d9-b092-0ab7441cb5bb",
   "metadata": {},
   "source": [
    "@property decorator is used to hide a variable(making it read only) so that it can not be modified by any object but, can read it using the class method."
   ]
  },
  {
   "cell_type": "code",
   "execution_count": 51,
   "id": "25394a20-3712-47c9-baae-e38213a773c0",
   "metadata": {},
   "outputs": [
    {
     "name": "stdout",
     "output_type": "stream",
     "text": [
      "Cars are an means of transport.\n"
     ]
    }
   ],
   "source": [
    "class Car:\n",
    "\n",
    "    total_cars = 0    # Class Variable\n",
    "    \n",
    "    def __init__(self, brand, model):\n",
    "        self.brand = brand   # Instance Variable\n",
    "        self.model = model   # Instance Variable\n",
    "        Car.total_cars += 1\n",
    "\n",
    "    def name(self): \n",
    "        return(f\"Brand: {self.brand}    Model: {self.model}\")\n",
    "\n",
    "    def fuel_type(self):\n",
    "        return \"Patrol or Diesel\"\n",
    "        \n",
    "    @staticmethod\n",
    "    def general_desc():\n",
    "        return \"Cars are an means of transport.\"    \n",
    "\n",
    "my_car = Car(\"Toyota\", \"Corolla\")\n",
    "\n",
    "print(Car.general_desc())"
   ]
  },
  {
   "cell_type": "markdown",
   "id": "a1597aee-bc63-4848-b446-e64c05be1e94",
   "metadata": {},
   "source": [
    "###### Class Inheritance and isinstance() function:"
   ]
  },
  {
   "cell_type": "markdown",
   "id": "4b147310-7494-4f72-946e-483d89a92322",
   "metadata": {},
   "source": [
    "isinstance() function actually returns boolean value either true or false. It tells us wether a specific object is instance of a class or not. The syntax is isinstance(obj, class)"
   ]
  },
  {
   "cell_type": "code",
   "execution_count": 53,
   "id": "48c91f5d-66ad-4801-876d-781ece8c2bbb",
   "metadata": {},
   "outputs": [
    {
     "name": "stdout",
     "output_type": "stream",
     "text": [
      "True\n",
      "True\n",
      "True\n",
      "False\n"
     ]
    }
   ],
   "source": [
    "class Car:\n",
    "\n",
    "    total_cars = 0    # Class Variable\n",
    "    \n",
    "    def __init__(self, brand, model):\n",
    "        self.brand = brand   # Instance Variable\n",
    "        self.model = model   # Instance Variable\n",
    "        Car.total_cars += 1\n",
    "\n",
    "    def name(self): \n",
    "        return(f\"Brand: {self.brand}    Model: {self.model}\")\n",
    "\n",
    "    def fuel_type(self):\n",
    "        return \"Patrol or Diesel\"\n",
    "\n",
    "class ElectricCar(Car):\n",
    "    def __init__(self, brand, model, battery_size):\n",
    "        super().__init__(brand, model)\n",
    "        self.battery_size = battery_size\n",
    "\n",
    "    def fuel_type(self):\n",
    "        return \"Electric Charge\"\n",
    "\n",
    "my_electric_car = ElectricCar(\"Tesla\", \"Model S\", \"85KWH\")\n",
    "my_car = Car(\"Toyota\", \"Corolla\")\n",
    "\n",
    "print(isinstance(my_car,Car))\n",
    "print(isinstance(my_electric_car,Car))\n",
    "print(isinstance(my_electric_car,ElectricCar))\n",
    "print(isinstance(my_car,ElectricCar))"
   ]
  },
  {
   "cell_type": "markdown",
   "id": "280ce746-2011-4c86-bb27-4359705616a3",
   "metadata": {},
   "source": [
    "###### Multiple Inheritance:\n",
    "\n",
    "    Python supports Multiple Inheritance"
   ]
  },
  {
   "cell_type": "code",
   "execution_count": 55,
   "id": "3db473b4-90fd-4313-8358-8dcd6f6eda7a",
   "metadata": {},
   "outputs": [
    {
     "name": "stdout",
     "output_type": "stream",
     "text": [
      "This is a Lithium Battery\n",
      "This engine is 2000cc\n"
     ]
    }
   ],
   "source": [
    "class Battery:\n",
    "    def battery_info(slef):\n",
    "        return \"This is a Lithium Battery\"\n",
    "\n",
    "\n",
    "class Engine:\n",
    "    def engine_info(slef):\n",
    "        return \"This engine is 2000cc\"\n",
    "\n",
    "class ElectricCarTwo(Battery, Engine, Car):\n",
    "    pass\n",
    "\n",
    "my_new_car = ElectricCarTwo(\"Honda\", \"City\")\n",
    "print(my_new_car.battery_info())\n",
    "print(my_new_car.engine_info())"
   ]
  },
  {
   "cell_type": "code",
   "execution_count": null,
   "id": "bcf142f5-d64a-4cc6-964e-77b64a14714d",
   "metadata": {},
   "outputs": [],
   "source": []
  }
 ],
 "metadata": {
  "kernelspec": {
   "display_name": "Python 3 (ipykernel)",
   "language": "python",
   "name": "python3"
  },
  "language_info": {
   "codemirror_mode": {
    "name": "ipython",
    "version": 3
   },
   "file_extension": ".py",
   "mimetype": "text/x-python",
   "name": "python",
   "nbconvert_exporter": "python",
   "pygments_lexer": "ipython3",
   "version": "3.12.5"
  }
 },
 "nbformat": 4,
 "nbformat_minor": 5
}
