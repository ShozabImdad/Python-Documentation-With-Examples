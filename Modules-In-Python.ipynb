{
 "cells": [
  {
   "cell_type": "markdown",
   "id": "bb54ba68-6633-4f70-be97-326549deb8f7",
   "metadata": {},
   "source": [
    "# 4. Modules in Python"
   ]
  },
  {
   "cell_type": "markdown",
   "id": "1ffb0701-7b33-4a70-b13a-9e17bb810ac6",
   "metadata": {},
   "source": [
    "A Python module is a file containing Python definitions and statements. A module can define functions, classes, and variables. A module can also include runnable code. Grouping related code into a module makes the code easier to understand and use. It also makes the code logically organized.\n",
    "\n",
    "To create a Python module, write the desired code and save that in a file with .py extension."
   ]
  },
  {
   "cell_type": "code",
   "execution_count": 4,
   "id": "c31d7572-5f76-4b64-9c66-4bd160073c50",
   "metadata": {},
   "outputs": [
    {
     "name": "stdout",
     "output_type": "stream",
     "text": [
      "20\n"
     ]
    }
   ],
   "source": [
    "# Importing a module.\n",
    "\n",
    "import calc\n",
    "\n",
    "print(calc.multiply(2, 10))"
   ]
  },
  {
   "cell_type": "code",
   "execution_count": 5,
   "id": "ee5b64b3-a023-45e7-b933-bb3c22be995c",
   "metadata": {},
   "outputs": [
    {
     "name": "stdout",
     "output_type": "stream",
     "text": [
      "4.0\n"
     ]
    }
   ],
   "source": [
    "# Using From to import specific method from module. \n",
    "from calc import divide\n",
    "\n",
    "print(divide(20, 5))"
   ]
  },
  {
   "cell_type": "code",
   "execution_count": 6,
   "id": "15ca5298-7d00-43d6-b0fd-e28e90a08a17",
   "metadata": {},
   "outputs": [
    {
     "name": "stdout",
     "output_type": "stream",
     "text": [
      "30\n",
      "-10\n",
      "200\n",
      "0.5\n"
     ]
    }
   ],
   "source": [
    "# * is used to import all names from a module to current code space. \n",
    "from calc import *\n",
    "\n",
    "print(add(10, 20))\n",
    "print(subtract(10, 20))\n",
    "print(multiply(10, 20))\n",
    "print(divide(10, 20))"
   ]
  },
  {
   "cell_type": "markdown",
   "id": "45bd6200-f37a-4f07-abe3-8b5cdeea53b3",
   "metadata": {},
   "source": [
    "#### 4.1. Python Modules as Scripts"
   ]
  },
  {
   "cell_type": "markdown",
   "id": "9604f7ff-f624-49be-b7bf-6fa273cb8f5c",
   "metadata": {},
   "source": [
    "###### Difference B/W Module and Scripts:\n",
    "\n",
    "    A module is a .py file that's meant to be imported by other .py files. While on the ither hand a script or program is a .py file that's meant to be run directly. All Scripts are modules but all modules are not scripts. When the __name__ is set to the \"__main__\", and the code under this function will execute only when the module is executed as main module."
   ]
  },
  {
   "cell_type": "markdown",
   "id": "15ca0729-6731-43bc-ac3f-389b7d0930f7",
   "metadata": {},
   "source": [
    "#### 4.2. Python Module Search Path:"
   ]
  },
  {
   "cell_type": "markdown",
   "id": "626f828d-dda0-46b4-93f1-d79b511a98a4",
   "metadata": {},
   "source": [
    "When we import a module in a program, python will search for the module.py file from the following sources:\n",
    "\n",
    "    1. The current folder from which the program executes.\n",
    "    2. A list of folders specified in PYTHONPATH environment variable, if we have set it before.\n",
    "    3. An installation list of folders that we configured, when we installed python.\n",
    "\n",
    "Python stores the resulting path in the sys.path variable that comes from the sys module. For Example;"
   ]
  },
  {
   "cell_type": "code",
   "execution_count": 7,
   "id": "e2849c58-7068-4788-8d27-91a8b274c13b",
   "metadata": {},
   "outputs": [
    {
     "name": "stdout",
     "output_type": "stream",
     "text": [
      "C:\\Users\\HH Traders\\AppData\\Local\\Programs\\Python\\Python312\\python312.zip\n",
      "C:\\Users\\HH Traders\\AppData\\Local\\Programs\\Python\\Python312\\DLLs\n",
      "C:\\Users\\HH Traders\\AppData\\Local\\Programs\\Python\\Python312\\Lib\n",
      "C:\\Users\\HH Traders\\AppData\\Local\\Programs\\Python\\Python312\n",
      "\n",
      "C:\\Users\\HH Traders\\AppData\\Local\\Programs\\Python\\Python312\\Lib\\site-packages\n",
      "C:\\Users\\HH Traders\\AppData\\Local\\Programs\\Python\\Python312\\Lib\\site-packages\\win32\n",
      "C:\\Users\\HH Traders\\AppData\\Local\\Programs\\Python\\Python312\\Lib\\site-packages\\win32\\lib\n",
      "C:\\Users\\HH Traders\\AppData\\Local\\Programs\\Python\\Python312\\Lib\\site-packages\\Pythonwin\n"
     ]
    }
   ],
   "source": [
    "import sys\n",
    "\n",
    "for path in sys.path:\n",
    "    print(path)\n"
   ]
  },
  {
   "cell_type": "markdown",
   "id": "3852c16a-126c-4bf4-bc21-dd9b86f80ad2",
   "metadata": {},
   "source": [
    "#### 4.3. The dir() Function:"
   ]
  },
  {
   "cell_type": "markdown",
   "id": "2ad383ee-a701-47c1-90b3-20b654896c94",
   "metadata": {},
   "source": [
    "This function will return all the properties and methods of the specified object without the values, even built-in properties which are default for all object."
   ]
  },
  {
   "cell_type": "code",
   "execution_count": 9,
   "id": "4af84ca7-c140-44ce-bff0-a30453899aee",
   "metadata": {},
   "outputs": [
    {
     "name": "stdout",
     "output_type": "stream",
     "text": [
      "['__builtins__', '__cached__', '__doc__', '__file__', '__loader__', '__name__', '__package__', '__spec__', 'add', 'divide', 'multiply', 'subtract']\n"
     ]
    }
   ],
   "source": [
    "print(dir(calc))"
   ]
  }
 ],
 "metadata": {
  "kernelspec": {
   "display_name": "Python 3 (ipykernel)",
   "language": "python",
   "name": "python3"
  },
  "language_info": {
   "codemirror_mode": {
    "name": "ipython",
    "version": 3
   },
   "file_extension": ".py",
   "mimetype": "text/x-python",
   "name": "python",
   "nbconvert_exporter": "python",
   "pygments_lexer": "ipython3",
   "version": "3.12.5"
  }
 },
 "nbformat": 4,
 "nbformat_minor": 5
}
