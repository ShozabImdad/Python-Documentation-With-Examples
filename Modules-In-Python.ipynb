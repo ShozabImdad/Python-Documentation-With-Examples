{
 "cells": [
  {
   "cell_type": "markdown",
   "id": "bb54ba68-6633-4f70-be97-326549deb8f7",
   "metadata": {},
   "source": [
    "# 4. Modules in Python"
   ]
  },
  {
   "cell_type": "markdown",
   "id": "1ffb0701-7b33-4a70-b13a-9e17bb810ac6",
   "metadata": {},
   "source": [
    "A Python module is a file containing Python definitions and statements. A module can define functions, classes, and variables. A module can also include runnable code. Grouping related code into a module makes the code easier to understand and use. It also makes the code logically organized.\n",
    "\n",
    "To create a Python module, write the desired code and save that in a file with .py extension."
   ]
  },
  {
   "cell_type": "code",
   "execution_count": 1,
   "id": "c31d7572-5f76-4b64-9c66-4bd160073c50",
   "metadata": {},
   "outputs": [
    {
     "name": "stdout",
     "output_type": "stream",
     "text": [
      "20\n"
     ]
    }
   ],
   "source": [
    "# Importing a module.\n",
    "\n",
    "import calc\n",
    "\n",
    "print(calc.multiply(2, 10))"
   ]
  },
  {
   "cell_type": "code",
   "execution_count": 2,
   "id": "ee5b64b3-a023-45e7-b933-bb3c22be995c",
   "metadata": {},
   "outputs": [
    {
     "name": "stdout",
     "output_type": "stream",
     "text": [
      "4.0\n"
     ]
    }
   ],
   "source": [
    "# Using From to import specific method from module. \n",
    "from calc import divide\n",
    "\n",
    "print(divide(20, 5))"
   ]
  },
  {
   "cell_type": "code",
   "execution_count": 3,
   "id": "15ca5298-7d00-43d6-b0fd-e28e90a08a17",
   "metadata": {},
   "outputs": [
    {
     "name": "stdout",
     "output_type": "stream",
     "text": [
      "30\n",
      "-10\n",
      "200\n",
      "0.5\n"
     ]
    }
   ],
   "source": [
    "# * is used to import all names from a module to current code space. \n",
    "from calc import *\n",
    "\n",
    "print(add(10, 20))\n",
    "print(subtract(10, 20))\n",
    "print(multiply(10, 20))\n",
    "print(divide(10, 20))"
   ]
  },
  {
   "cell_type": "markdown",
   "id": "45bd6200-f37a-4f07-abe3-8b5cdeea53b3",
   "metadata": {},
   "source": [
    "#### 4.1. Python Modules as Scripts"
   ]
  },
  {
   "cell_type": "code",
   "execution_count": null,
   "id": "12148800-9e81-4d8b-bcca-afa790d6130f",
   "metadata": {},
   "outputs": [],
   "source": []
  }
 ],
 "metadata": {
  "kernelspec": {
   "display_name": "Python 3 (ipykernel)",
   "language": "python",
   "name": "python3"
  },
  "language_info": {
   "codemirror_mode": {
    "name": "ipython",
    "version": 3
   },
   "file_extension": ".py",
   "mimetype": "text/x-python",
   "name": "python",
   "nbconvert_exporter": "python",
   "pygments_lexer": "ipython3",
   "version": "3.12.5"
  }
 },
 "nbformat": 4,
 "nbformat_minor": 5
}
