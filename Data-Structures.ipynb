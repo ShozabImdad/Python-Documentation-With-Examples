{
 "cells": [
  {
   "cell_type": "markdown",
   "id": "82ed0bed-daa8-49e0-a3c7-9dfba1d60b54",
   "metadata": {},
   "source": [
    "# 3. Python Data Structures"
   ]
  },
  {
   "cell_type": "markdown",
   "id": "f9ccc80b-5446-4a88-9e50-e433e316c9ca",
   "metadata": {},
   "source": [
    "Data Structures are a way of organizing data so that it can be accessed more efficiently depending upon the situation. Data Structures are fundamentals of any programming language around which a program is built. Python helps to learn the fundamental of these data structures in a simpler way as compared to other programming languages.\n",
    "\n"
   ]
  },
  {
   "cell_type": "markdown",
   "id": "d75f3535-ab2e-43c1-8c76-2b6a5531d1fa",
   "metadata": {},
   "source": [
    "#### 3.1. Lists:"
   ]
  },
  {
   "cell_type": "markdown",
   "id": "79a18543-dfd5-4ca8-a9f5-9f0e8c7d6236",
   "metadata": {},
   "source": [
    "###### 3.1.1. Methods of python lists:\n",
    "1. append()    Used for adding elements in the list, it's syntax is list.append(x), where x is the element to be added.\n",
    "2. insert()    Inserts an elent at the specified position in the list, it's syntax is list.insert(i,x), where i is index and x is element.\n",
    "3. extend()    Inserts iterable objects (list, array, strings etc) at the end of list, it's syntax is list1.extend(list2).\n",
    "4. sum()       Calculates the sum of all the elements in the list, syntax is list.sum(). If there is a combination of numbers, strings etc it will throw error since this function sums integer only.\n",
    "5. count()     Calculates the total number of occurances of the given element in the list, syntax is list.count(x), calculates how many time x is occoured in the list.\n",
    "6. len()       Calculates the total length of the list, syntax is len(list).\n",
    "7. index()     Returns the index of given element in the list, synatx is list.index(x,start,end)), search from index position start till end and if there is element x present it stops and doesn't looks further and returns the index of first occourance of x.\n",
    "8. min()       Calculates the minimum of elements in the list, syntax is min(list).\n",
    "9. max()       Calculates the maximum of elements in the list, syntax is max(list).\n",
    "10. reverse()  Reverses the order of the list, syntax is list.reverse().\n",
    "11. sort()     Sort the given data structure (both tuple and list) in ascending order, syntax is list.sort(key,reverse_flag). key and reverse flag are optional arguements, if we want to sort and reverse a list or tuple we can set the reverse_flag to true.\n",
    "12. pop()      Removes the element from the given index of the list, syntax is list.pop(i), where i is the index from which we want to delete an element. The index is an optional parameter if no index is given, it automatticall deletes from the last index of the list.\n",
    "13. del()      Deletes an element from the given index in the list, syntax is del[i], where i is the index.\n",
    "14. remove()   Removes the specific elent by name/value from the list, syntax is list.remove(x), where x is the element to be deleted."
   ]
  },
  {
   "cell_type": "markdown",
   "id": "20aa54b0-bbdc-479e-a049-b0a6ab968069",
   "metadata": {},
   "source": [
    "#### 3.2. Stack in Python:"
   ]
  },
  {
   "cell_type": "markdown",
   "id": "6467e519-d81d-41d0-ba57-ba70f59c3516",
   "metadata": {},
   "source": [
    "A stack is a linear data structure that stores items in a Last-In/First-Out (LIFO) or First-In/Last-Out (FILO) manner. In stack, a new element is added at one end and an element is removed from that end only. The insert and delete operations are often called push and pop.\n",
    "Stack in python can be impleemented using the following ways:\n",
    "\n",
    "    1. Using Lists.\n",
    "    \n",
    "    2. using Collections.deque.\n",
    "    \n",
    "    3. using queue.lifoQueue."
   ]
  },
  {
   "cell_type": "markdown",
   "id": "8184c408-dc0c-4bde-ab81-01d77f6ef3e0",
   "metadata": {},
   "source": [
    "###### 3.2.1. Stack Using Lists:"
   ]
  },
  {
   "cell_type": "code",
   "execution_count": 3,
   "id": "29f68c1a-4e8d-4c56-a66a-301ce6fb4a81",
   "metadata": {},
   "outputs": [
    {
     "name": "stdout",
     "output_type": "stream",
     "text": [
      "Stack at the begining\n",
      "['g', 'f', 'g']\n",
      "Elements popped from stack:\n",
      "g\n",
      "f\n",
      "g\n",
      "Stack after elements are popped:\n",
      "[]\n"
     ]
    }
   ],
   "source": [
    "stack = []\n",
    "\n",
    "\n",
    "stack.append('g')         # append() function to push element in the stack \n",
    "stack.append('f')     \n",
    "stack.append('g')\n",
    "\n",
    "print('Stack at the begining')\n",
    "print(stack)\n",
    "\n",
    "# pop() function to pop element from stack in LIFO order since using pop without without parameters removes or pops element from last index\n",
    "print('Elements popped from stack:')\n",
    "print(stack.pop())\n",
    "print(stack.pop())\n",
    "print(stack.pop())\n",
    "\n",
    "print('Stack after elements are popped:')\n",
    "print(stack)\n",
    "\n",
    "# print(stack.pop())\n",
    "# will cause an IndexError\n",
    "# as the stack is now empty\n"
   ]
  },
  {
   "cell_type": "markdown",
   "id": "c4f73114-493b-4c53-9d51-cc5ac408e814",
   "metadata": {},
   "source": [
    "###### 3.2.2. Using collections.deque:"
   ]
  },
  {
   "cell_type": "code",
   "execution_count": 7,
   "id": "a37722ed-cce4-412d-a08e-dd93c867b182",
   "metadata": {},
   "outputs": [
    {
     "name": "stdout",
     "output_type": "stream",
     "text": [
      "Stack at the begining\n",
      "deque(['g', 'f', 'g'])\n",
      "Elements popped from stack:\n",
      "g\n",
      "f\n",
      "g\n",
      "All of the stack elements are popped, and stack is empty:\n",
      "deque([])\n"
     ]
    }
   ],
   "source": [
    "from collections import deque     # deque stands for double ended queue\n",
    "\n",
    "stack = deque()\n",
    "\n",
    "stack.append('g')         # append() function to push element in the stack \n",
    "stack.append('f')     \n",
    "stack.append('g')\n",
    "\n",
    "print('Stack at the begining')\n",
    "print(stack)\n",
    "\n",
    "# pop() function to pop element from stack in LIFO order since using pop without without parameters removes or pops element from last index\n",
    "print('Elements popped from stack:')\n",
    "print(stack.pop())\n",
    "print(stack.pop())\n",
    "print(stack.pop())\n",
    "\n",
    "print('All of the stack elements are popped, and stack is empty:')\n",
    "print(stack)\n",
    "\n",
    "# print(stack.pop())\n",
    "# will cause an IndexError\n",
    "# as the stack is now empty\n"
   ]
  },
  {
   "cell_type": "markdown",
   "id": "455a9874-3919-4fb3-8785-690269f8d4eb",
   "metadata": {},
   "source": [
    "#### 3.3. Queue in Pthon:"
   ]
  },
  {
   "cell_type": "markdown",
   "id": "44701358-97a9-4207-8520-194e2adce2de",
   "metadata": {},
   "source": [
    "As a stack, the queue is a linear data structure that stores items in a First In First Out (FIFO) manner. With a queue, the least recently added item is removed first. Operations associated with queues are Enqueue, Dequeue, Front, and Rear."
   ]
  },
  {
   "cell_type": "markdown",
   "id": "0dca4d97-ca17-43b2-97da-a94f6a2eb798",
   "metadata": {},
   "source": [
    "###### 3.3.1. Using List as Queue: "
   ]
  },
  {
   "cell_type": "markdown",
   "id": "ed868489-6593-4ebc-b422-3a49c64949ef",
   "metadata": {},
   "source": [
    "Instead of enqueue(), and dequeue() in python append(), and popleft() functions are used. to implement queue we need to import deque method from collections library."
   ]
  },
  {
   "cell_type": "code",
   "execution_count": 10,
   "id": "639a8b74-10f1-4206-a84b-7f7b73ef731b",
   "metadata": {},
   "outputs": [
    {
     "name": "stdout",
     "output_type": "stream",
     "text": [
      "Queue at the begining\n",
      "deque(['a', 'b', 'c', 'g', 'f', 'g'])\n",
      "Elements popped from stack:\n",
      "a\n",
      "b\n",
      "c\n",
      "Queue after popping the first three the elements:\n",
      "deque(['g', 'f', 'g'])\n"
     ]
    }
   ],
   "source": [
    "queue = deque(['a', 'b', 'c'])\n",
    "\n",
    "queue.append('g')         # append() function to push element in the queue\n",
    "queue.append('f')     \n",
    "queue.append('g')\n",
    "\n",
    "print('Queue at the begining')\n",
    "print(queue)\n",
    "\n",
    "# pop() function to pop element from stack in LIFO order since using pop without without parameters removes or pops element from last index\n",
    "print('Elements popped from stack:')\n",
    "print(queue.popleft())\n",
    "print(queue.popleft())\n",
    "print(queue.popleft())\n",
    "\n",
    "print('Queue after popping the first three the elements:')\n",
    "print(queue)\n",
    "\n",
    "# print(stack.pop())\n",
    "# will cause an IndexError\n",
    "# as the stack is now empty"
   ]
  },
  {
   "cell_type": "markdown",
   "id": "d050950f-98c1-429a-98ad-b2adb434a284",
   "metadata": {},
   "source": [
    "#### 3.4. List Comprehension:"
   ]
  },
  {
   "cell_type": "markdown",
   "id": "2adc5a25-7646-4c1d-9dfb-07aa6eb52b5d",
   "metadata": {},
   "source": [
    "A Python list comprehension consists of brackets containing the expression, which is executed for each element along with the for loop to iterate over each element in the Python list. The syntax is, newList = [expression(element) for element in oldList if condition]"
   ]
  },
  {
   "cell_type": "code",
   "execution_count": 13,
   "id": "8c23ec78-b9ac-409a-b80c-5a9c784c306e",
   "metadata": {},
   "outputs": [
    {
     "name": "stdout",
     "output_type": "stream",
     "text": [
      "[1, 4, 9, 16, 25, 36]\n"
     ]
    }
   ],
   "source": [
    "numbers = [1, 2, 3, 4, 5, 6]\n",
    "squared_num = [x**2 for x in numbers]\n",
    "print(squared_num)"
   ]
  },
  {
   "cell_type": "code",
   "execution_count": 14,
   "id": "9cbab7fc-6b1c-43f3-8ca9-4c906445fdc9",
   "metadata": {},
   "outputs": [
    {
     "name": "stdout",
     "output_type": "stream",
     "text": [
      "[1, 2, 3]\n"
     ]
    }
   ],
   "source": [
    "# Iteration with list comprehension\n",
    "\n",
    "list = [x for x in [1,2,3]]\n",
    "print(list)"
   ]
  },
  {
   "cell_type": "code",
   "execution_count": 27,
   "id": "abfb7304-8439-4bb2-acfd-df3becf9e016",
   "metadata": {},
   "outputs": [
    {
     "name": "stdout",
     "output_type": "stream",
     "text": [
      "[0, 2, 4, 6, 8, 10, 12, 14]\n"
     ]
    }
   ],
   "source": [
    "# using for loop in list comprehension\n",
    "\n",
    "numbers = [x for x in range(15) if x % 2 == 0]\n",
    "print(numbers)"
   ]
  },
  {
   "cell_type": "code",
   "execution_count": 30,
   "id": "13ab0e74-e222-4710-b159-7911807616f2",
   "metadata": {},
   "outputs": [
    {
     "name": "stdout",
     "output_type": "stream",
     "text": [
      "Without using lambda list comprehension\n",
      "[2, 4, 6, 8, 10, 12, 14, 16, 18]\n"
     ]
    }
   ],
   "source": [
    "# Using lambda functions in list comprehensionabs\n",
    "# Using lambda list comprehension to print table of 2\n",
    "\n",
    "# without lambda\n",
    "print(\"Without using lambda list comprehension\")\n",
    "numbers = [x*2 for x in range(1,10)]\n",
    "print(numbers)"
   ]
  },
  {
   "cell_type": "code",
   "execution_count": 2,
   "id": "74fdbf21-749e-4f62-9272-57412e9bb821",
   "metadata": {},
   "outputs": [
    {
     "name": "stdout",
     "output_type": "stream",
     "text": [
      "With using lambda list comprehension\n",
      "[2, 4, 6, 8, 10, 12, 14, 16, 18]\n"
     ]
    }
   ],
   "source": [
    "# Using Lmbda Comprehensionabs\n",
    "print(\"With using lambda list comprehension\")\n",
    "numbers = list(map(lambda x : x*2, [x for x in range(1,10)]))\n",
    "print(numbers)"
   ]
  },
  {
   "cell_type": "code",
   "execution_count": 3,
   "id": "eb44852f-57c6-46da-9ccf-1ba7ddc1257e",
   "metadata": {},
   "outputs": [
    {
     "name": "stdout",
     "output_type": "stream",
     "text": [
      "[(1, 2), (1, 3), (1, 4), (1, 5), (2, 3), (2, 4), (2, 5), (3, 2), (3, 4), (3, 5), (4, 2), (4, 3), (4, 5)]\n"
     ]
    }
   ],
   "source": [
    "# List Comprehension using two lists and expression passed as tuple:\n",
    "numbers = [(x,y) for x in range(1, 5) for y in range(2, 6) if x != y]\n",
    "print(numbers)"
   ]
  },
  {
   "cell_type": "markdown",
   "id": "26cef593-21f7-4264-a256-bc0a4ea66c44",
   "metadata": {},
   "source": [
    "###### 3.4.1. Nested List Comprehension:"
   ]
  },
  {
   "cell_type": "markdown",
   "id": "3fb31935-4250-4869-9f74-446139d241b8",
   "metadata": {},
   "source": [
    "Nested List Comprehension is similar to nested for loops, it is list comprehension inside another list comprehension."
   ]
  },
  {
   "cell_type": "code",
   "execution_count": 7,
   "id": "15909f81-8daa-473f-802e-08f6990d5e90",
   "metadata": {},
   "outputs": [
    {
     "name": "stdout",
     "output_type": "stream",
     "text": [
      "Transposed Matrix is :\n",
      "[[1, 5, 9], [2, 6, 10], [3, 7, 11], [4, 8, 12]]\n"
     ]
    }
   ],
   "source": [
    "matrix = [\n",
    "    [1, 2, 3, 4],\n",
    "    [5, 6, 7, 8],\n",
    "    [9, 10, 11, 12],\n",
    "]\n",
    "\n",
    "transposed = [[row[i] for row in matrix] for i in range(4)]\n",
    "print('Transposed Matrix is :')\n",
    "print(transposed)"
   ]
  },
  {
   "cell_type": "markdown",
   "id": "1dfdfe3e-483f-4061-ba5f-d5c6682d8930",
   "metadata": {},
   "source": [
    "#### 3.4. Tuples:"
   ]
  },
  {
   "cell_type": "markdown",
   "id": "61ce82df-c7b0-4d98-a58f-79f67bffe15e",
   "metadata": {},
   "source": [
    "Python Tuple is a collection of Python Programming objects much like a list. The sequence of values stored in a tuple can be of any type, and they are indexed by integers.  Values of a tuple are syntactically separated by ‘commas‘. In Python tuples are immutable objects. There are several ways to initialize and define tuples in python"
   ]
  },
  {
   "cell_type": "code",
   "execution_count": 10,
   "id": "8d417b2b-a42e-49af-b31f-b96ced118454",
   "metadata": {},
   "outputs": [
    {
     "name": "stdout",
     "output_type": "stream",
     "text": [
      "Empty tuple created initially:\n",
      "()\n",
      "Tuple with the use of String: \n",
      "('Shozab', 'Ali')\n",
      "Tuple using List: \n",
      "(1, 2, 4, 5, 6)\n",
      "Tuple with the use of function: \n",
      "('S', 'h', 'o', 'z', 'a', 'b')\n"
     ]
    }
   ],
   "source": [
    "# Creating an empty Tuple\n",
    "Tuple_1 = ()\n",
    "print(\"Empty tuple created initially:\")\n",
    "print(Tuple_1)\n",
    "\n",
    "# Creating a Tuple with the use of string\n",
    "Tuple_1 = ('Shozab', 'Ali')\n",
    "print(\"Tuple with the use of String: \")\n",
    "print(Tuple_1)\n",
    "\n",
    "# Creating a Tuple with the use of list\n",
    "list_1 = [1, 2, 4, 5, 6]\n",
    "print(\"Tuple using List: \")\n",
    "print(tuple(list_1))\n",
    "\n",
    "# Creating a Tuple with the use of built-in function\n",
    "Tuple_1 = tuple('Shozab')\n",
    "print(\"Tuple with the use of function: \")\n",
    "print(Tuple_1)\n"
   ]
  },
  {
   "cell_type": "markdown",
   "id": "c4d69ffc-d34c-4c58-8820-ec7a7773aa9c",
   "metadata": {},
   "source": [
    "#### 3.5. Sets:"
   ]
  },
  {
   "cell_type": "markdown",
   "id": "ff16b138-b044-4af3-9ae7-f1d0963419bf",
   "metadata": {},
   "source": [
    "A Set in Python programming is an unordered collection of data type that is iterable, mutable and has no duplicate elements. Python sets can not contain duplicate items. Sets are based on the data structure Hash table, which means that it is highly optimized to search or look for any element in the set. The Syntax for set is set = {}"
   ]
  },
  {
   "cell_type": "code",
   "execution_count": 12,
   "id": "0b1bcf84-f726-4697-bbd9-fbdf30a2cbdd",
   "metadata": {},
   "outputs": [
    {
     "data": {
      "text/plain": [
       "set"
      ]
     },
     "execution_count": 12,
     "metadata": {},
     "output_type": "execute_result"
    }
   ],
   "source": [
    "var = {'a', 'b', 'c'}\n",
    "type(var)"
   ]
  },
  {
   "cell_type": "code",
   "execution_count": 13,
   "id": "00f1e178-2f8a-45bf-b170-187d0ff3ade9",
   "metadata": {},
   "outputs": [
    {
     "data": {
      "text/plain": [
       "True"
      ]
     },
     "execution_count": 13,
     "metadata": {},
     "output_type": "execute_result"
    }
   ],
   "source": [
    "'a' in var"
   ]
  },
  {
   "cell_type": "code",
   "execution_count": 18,
   "id": "1f8005c5-9d72-401e-ad8b-1c59ad794754",
   "metadata": {},
   "outputs": [
    {
     "name": "stdout",
     "output_type": "stream",
     "text": [
      "{'orange', 'banana', 'apple'}\n"
     ]
    }
   ],
   "source": [
    "# python set can also be used for type casting\n",
    "fruits = set(['apple', 'banana', 'orange'])\n",
    "print(fruits)"
   ]
  },
  {
   "cell_type": "code",
   "execution_count": 19,
   "id": "0214cbd6-7592-4a7e-8d73-b6ae993eda75",
   "metadata": {},
   "outputs": [
    {
     "name": "stdout",
     "output_type": "stream",
     "text": [
      "{'orange', 'banana', 'apple'}\n"
     ]
    }
   ],
   "source": [
    "# A set can not contain duplicates\n",
    "fruits.add('apple')\n",
    "print(fruits)"
   ]
  },
  {
   "cell_type": "code",
   "execution_count": 20,
   "id": "ed1c5f82-9458-4cd0-bba3-7f9ef0d01c9e",
   "metadata": {},
   "outputs": [
    {
     "name": "stdout",
     "output_type": "stream",
     "text": [
      "{True, 2.2, 10, 'string'}\n"
     ]
    }
   ],
   "source": [
    "# Python sets can contain hetrogeneous elements i.e. they can store mixture of strings, integer, boolean etc.\n",
    "\n",
    "set_a = set(['string', 2.2, 10, True])\n",
    "print(set_a)"
   ]
  },
  {
   "cell_type": "markdown",
   "id": "0a9eb34b-1091-4c35-a648-7627a3cc9112",
   "metadata": {},
   "source": [
    "###### Frozen Sets:\n",
    "    In python frozen sets are immutable objects and they can not be changed. we can create an object of frozen set by using python frozenset() method"
   ]
  },
  {
   "cell_type": "code",
   "execution_count": 23,
   "id": "1002424f-249d-458d-81cd-f91eec04b591",
   "metadata": {},
   "outputs": [
    {
     "name": "stdout",
     "output_type": "stream",
     "text": [
      "frozenset({'a', 'b', 'c'})\n"
     ]
    },
    {
     "ename": "AttributeError",
     "evalue": "'frozenset' object has no attribute 'add'",
     "output_type": "error",
     "traceback": [
      "\u001b[1;31m---------------------------------------------------------------------------\u001b[0m",
      "\u001b[1;31mAttributeError\u001b[0m                            Traceback (most recent call last)",
      "Cell \u001b[1;32mIn[23], line 5\u001b[0m\n\u001b[0;32m      2\u001b[0m \u001b[38;5;28mprint\u001b[39m(frozenset_a)\n\u001b[0;32m      4\u001b[0m \u001b[38;5;66;03m# we can not do changings in frozen set, it will throw an error.\u001b[39;00m\n\u001b[1;32m----> 5\u001b[0m \u001b[43mfrozenset_a\u001b[49m\u001b[38;5;241;43m.\u001b[39;49m\u001b[43madd\u001b[49m(\u001b[38;5;124m'\u001b[39m\u001b[38;5;124md\u001b[39m\u001b[38;5;124m'\u001b[39m)\n",
      "\u001b[1;31mAttributeError\u001b[0m: 'frozenset' object has no attribute 'add'"
     ]
    }
   ],
   "source": [
    "frozenset_a = frozenset(['a', 'b', 'c'])\n",
    "print(frozenset_a)\n",
    "\n",
    "# we can not do changings in frozen set, it will throw an error.\n",
    "frozenset_a.add('d')"
   ]
  },
  {
   "cell_type": "markdown",
   "id": "7bab6bb0-d752-4855-b86b-fe713b4df86f",
   "metadata": {},
   "source": [
    "###### We can also perform sets operations like union, intersection and others on sets in python"
   ]
  },
  {
   "cell_type": "code",
   "execution_count": 25,
   "id": "05e19c36-ec8e-46c1-9103-26238a723024",
   "metadata": {},
   "outputs": [
    {
     "name": "stdout",
     "output_type": "stream",
     "text": [
      "{'a', 'd', 'b', 'r', 'c'}\n",
      "{'z', 'a', 'l', 'c', 'm'}\n",
      "{'d', 'r', 'b'}\n",
      "{'z', 'a', 'd', 'b', 'r', 'l', 'c', 'm'}\n",
      "{'a', 'c'}\n",
      "{'z', 'r', 'l', 'd', 'b', 'm'}\n"
     ]
    }
   ],
   "source": [
    "a = set('abracadabra')\n",
    "b = set('alacazam')\n",
    "print(a)            # unique letters in a\n",
    "print(b)            # unique letters in b\n",
    "\n",
    "Difference = a - b  # letters in a but not in b\n",
    "print(Difference)\n",
    "\n",
    "Union = a | b       # letters in a or b or both\n",
    "print(Union)\n",
    "\n",
    "Intersection = a & b   # letters in both a and b\n",
    "print(Intersection)\n",
    "\n",
    "Xor = a ^ b           # letters in a or b but not both\n",
    "print(Xor)"
   ]
  },
  {
   "cell_type": "markdown",
   "id": "9c98d378-e504-4ba5-88ea-dd6a3bca382f",
   "metadata": {},
   "source": [
    "#### 3.6. Dictionaries:"
   ]
  },
  {
   "cell_type": "markdown",
   "id": "e966cc6c-78e1-4759-9307-5209063479ba",
   "metadata": {},
   "source": [
    "Dictionary is another built in data type in python. Dictionaries are just like sets/sequences in python but the dictionaries uses Keys(which should always be of immutable datatypes like strings, integers, tuples) for indexing. Dictionaries can be said to be the set of Key-Value pairs. Dictionaries can be initialized using dict() constructor. We can perform number of operations in dictionaries."
   ]
  },
  {
   "cell_type": "code",
   "execution_count": 29,
   "id": "a89edd5f-4e01-4789-b4c2-322e4cd84260",
   "metadata": {},
   "outputs": [
    {
     "name": "stdout",
     "output_type": "stream",
     "text": [
      "{1: 'Muhammad', 2: 'Shozab', 3: 'Imdad'}\n"
     ]
    }
   ],
   "source": [
    "Dict = {1: 'Muhammad', 2: 'Shozab', 3: 'Imdad'}\n",
    "print(Dict)"
   ]
  },
  {
   "cell_type": "code",
   "execution_count": 1,
   "id": "07eab769-2c12-41d1-9acf-2314ae709ac8",
   "metadata": {},
   "outputs": [
    {
     "name": "stdout",
     "output_type": "stream",
     "text": [
      "{1: 'Muhammad', 2: 'Shozab', 3: 'Imdad'}\n"
     ]
    }
   ],
   "source": [
    "# Using Built in function\n",
    "Dict = dict({1: 'Muhammad', 2: 'Shozab', 3: 'Imdad'})\n",
    "print(Dict)"
   ]
  },
  {
   "cell_type": "code",
   "execution_count": 2,
   "id": "010a4b21-de5c-4d22-859e-b4b49f229d95",
   "metadata": {},
   "outputs": [
    {
     "name": "stdout",
     "output_type": "stream",
     "text": [
      "{2: 'Shozab', 3: 'Imdad'}\n"
     ]
    }
   ],
   "source": [
    "# Performing Different Operations on Dictionaries\n",
    "Dict[1] # accessing value using key\n",
    "\n",
    "# Deleting an element \n",
    "del Dict[1]\n",
    "print(Dict)"
   ]
  },
  {
   "cell_type": "code",
   "execution_count": 3,
   "id": "59e38eb0-0eb9-4bb2-a77c-5800c6a66884",
   "metadata": {},
   "outputs": [
    {
     "data": {
      "text/plain": [
       "[1, 2, 3]"
      ]
     },
     "execution_count": 3,
     "metadata": {},
     "output_type": "execute_result"
    }
   ],
   "source": [
    "# Printing all keys\n",
    "\n",
    "list(Dict)"
   ]
  },
  {
   "cell_type": "code",
   "execution_count": 4,
   "id": "8d5917e2-2331-444b-a029-e8e043fc18a3",
   "metadata": {},
   "outputs": [
    {
     "data": {
      "text/plain": [
       "[1, 2, 3]"
      ]
     },
     "execution_count": 4,
     "metadata": {},
     "output_type": "execute_result"
    }
   ],
   "source": [
    "# Sorted list of Keysabs\n",
    "\n",
    "sorted(Dict)"
   ]
  },
  {
   "cell_type": "code",
   "execution_count": null,
   "id": "e9ce1555-92e5-4b97-bf63-0a8039deb50b",
   "metadata": {},
   "outputs": [],
   "source": []
  }
 ],
 "metadata": {
  "kernelspec": {
   "display_name": "Python 3 (ipykernel)",
   "language": "python",
   "name": "python3"
  },
  "language_info": {
   "codemirror_mode": {
    "name": "ipython",
    "version": 3
   },
   "file_extension": ".py",
   "mimetype": "text/x-python",
   "name": "python",
   "nbconvert_exporter": "python",
   "pygments_lexer": "ipython3",
   "version": "3.12.5"
  }
 },
 "nbformat": 4,
 "nbformat_minor": 5
}
